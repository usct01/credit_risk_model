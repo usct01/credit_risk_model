{
 "cells": [
  {
   "cell_type": "markdown",
   "metadata": {},
   "source": [
    "# Data Science Assignment: Submitted by Deepak Mishra"
   ]
  },
  {
   "cell_type": "code",
   "execution_count": 39,
   "metadata": {},
   "outputs": [],
   "source": [
    "# -*- coding: utf-8 -*-\n",
    "\"\"\"\n",
    "Created on Sun Sep 23 18:30:22 2018\n",
    "\n",
    "@author: Deepak Mishra\n",
    "\"\"\"\n",
    "import pandas as pd\n",
    "\n",
    "#READ THE DATA SHEET FROM EXCEL FILE\n",
    "dt1=pd.read_excel(\"Data Science Assignment September 2018.xlsx\",'Data')"
   ]
  },
  {
   "cell_type": "code",
   "execution_count": 40,
   "metadata": {},
   "outputs": [],
   "source": [
    "#RENAME FIELD Lead ID to Lead_ID\n",
    "dt1.rename(columns={'Lead ID':'Lead_ID'},inplace=True)\n",
    "\n",
    "#CREATE A FIELD FROM post_date to YYYY-MM\n",
    "dt1['YearMon'] = dt1.post_date.dt.to_period('M')"
   ]
  },
  {
   "cell_type": "code",
   "execution_count": 2,
   "metadata": {
    "scrolled": true
   },
   "outputs": [
    {
     "name": "stdout",
     "output_type": "stream",
     "text": [
      "<class 'pandas.core.frame.DataFrame'>\n",
      "RangeIndex: 29029 entries, 0 to 29028\n",
      "Data columns (total 12 columns):\n",
      "Lead ID             29029 non-null int64\n",
      "bankid              29029 non-null int64\n",
      "bank_account_id     29029 non-null int64\n",
      "account_number      29029 non-null object\n",
      "Industry            29029 non-null object\n",
      "post_date           29029 non-null datetime64[ns]\n",
      "description         29029 non-null object\n",
      "transaction_type    29029 non-null object\n",
      "amount              29029 non-null float64\n",
      "running_balance     29029 non-null float64\n",
      "trans_order         29029 non-null int64\n",
      "YearMon             29029 non-null int64\n",
      "dtypes: datetime64[ns](1), float64(2), int64(5), object(4)\n",
      "memory usage: 2.7+ MB\n"
     ]
    }
   ],
   "source": [
    "#INSPECTING DATA\n",
    "dt1.info()"
   ]
  },
  {
   "cell_type": "code",
   "execution_count": 3,
   "metadata": {
    "scrolled": true
   },
   "outputs": [
    {
     "data": {
      "text/html": [
       "<div>\n",
       "<style scoped>\n",
       "    .dataframe tbody tr th:only-of-type {\n",
       "        vertical-align: middle;\n",
       "    }\n",
       "\n",
       "    .dataframe tbody tr th {\n",
       "        vertical-align: top;\n",
       "    }\n",
       "\n",
       "    .dataframe thead th {\n",
       "        text-align: right;\n",
       "    }\n",
       "</style>\n",
       "<table border=\"1\" class=\"dataframe\">\n",
       "  <thead>\n",
       "    <tr style=\"text-align: right;\">\n",
       "      <th></th>\n",
       "      <th>Lead ID</th>\n",
       "      <th>bankid</th>\n",
       "      <th>bank_account_id</th>\n",
       "      <th>account_number</th>\n",
       "      <th>Industry</th>\n",
       "      <th>post_date</th>\n",
       "      <th>description</th>\n",
       "      <th>transaction_type</th>\n",
       "      <th>amount</th>\n",
       "      <th>running_balance</th>\n",
       "      <th>trans_order</th>\n",
       "      <th>YearMon</th>\n",
       "    </tr>\n",
       "  </thead>\n",
       "  <tbody>\n",
       "    <tr>\n",
       "      <th>0</th>\n",
       "      <td>321146</td>\n",
       "      <td>10479</td>\n",
       "      <td>13971</td>\n",
       "      <td>1</td>\n",
       "      <td>Retail Trade</td>\n",
       "      <td>2017-03-02</td>\n",
       "      <td>2017-03-01 00:00:00</td>\n",
       "      <td>credit</td>\n",
       "      <td>3.00</td>\n",
       "      <td>1032.65</td>\n",
       "      <td>2</td>\n",
       "      <td>201703</td>\n",
       "    </tr>\n",
       "    <tr>\n",
       "      <th>1</th>\n",
       "      <td>330698</td>\n",
       "      <td>8545</td>\n",
       "      <td>14374</td>\n",
       "      <td>1693</td>\n",
       "      <td>Health Care and Social Assistance</td>\n",
       "      <td>2017-01-13</td>\n",
       "      <td>#1008 Paid Check</td>\n",
       "      <td>debit</td>\n",
       "      <td>1062.78</td>\n",
       "      <td>6889.75</td>\n",
       "      <td>6</td>\n",
       "      <td>201701</td>\n",
       "    </tr>\n",
       "    <tr>\n",
       "      <th>2</th>\n",
       "      <td>330698</td>\n",
       "      <td>8545</td>\n",
       "      <td>14374</td>\n",
       "      <td>1693</td>\n",
       "      <td>Health Care and Social Assistance</td>\n",
       "      <td>2017-01-13</td>\n",
       "      <td>#1009 Paid Check</td>\n",
       "      <td>debit</td>\n",
       "      <td>1063.73</td>\n",
       "      <td>11125.54</td>\n",
       "      <td>2</td>\n",
       "      <td>201701</td>\n",
       "    </tr>\n",
       "    <tr>\n",
       "      <th>3</th>\n",
       "      <td>330698</td>\n",
       "      <td>8545</td>\n",
       "      <td>14374</td>\n",
       "      <td>1693</td>\n",
       "      <td>Health Care and Social Assistance</td>\n",
       "      <td>2017-01-17</td>\n",
       "      <td>#1011 Paid Check</td>\n",
       "      <td>debit</td>\n",
       "      <td>600.99</td>\n",
       "      <td>45497.83</td>\n",
       "      <td>28</td>\n",
       "      <td>201701</td>\n",
       "    </tr>\n",
       "    <tr>\n",
       "      <th>4</th>\n",
       "      <td>330698</td>\n",
       "      <td>8545</td>\n",
       "      <td>14374</td>\n",
       "      <td>1693</td>\n",
       "      <td>Health Care and Social Assistance</td>\n",
       "      <td>2017-01-13</td>\n",
       "      <td>#1012 Paid Check</td>\n",
       "      <td>debit</td>\n",
       "      <td>1284.15</td>\n",
       "      <td>21832.54</td>\n",
       "      <td>11</td>\n",
       "      <td>201701</td>\n",
       "    </tr>\n",
       "  </tbody>\n",
       "</table>\n",
       "</div>"
      ],
      "text/plain": [
       "   Lead ID  bankid  bank_account_id account_number  \\\n",
       "0   321146   10479            13971              1   \n",
       "1   330698    8545            14374           1693   \n",
       "2   330698    8545            14374           1693   \n",
       "3   330698    8545            14374           1693   \n",
       "4   330698    8545            14374           1693   \n",
       "\n",
       "                            Industry  post_date          description  \\\n",
       "0                       Retail Trade 2017-03-02  2017-03-01 00:00:00   \n",
       "1  Health Care and Social Assistance 2017-01-13     #1008 Paid Check   \n",
       "2  Health Care and Social Assistance 2017-01-13     #1009 Paid Check   \n",
       "3  Health Care and Social Assistance 2017-01-17     #1011 Paid Check   \n",
       "4  Health Care and Social Assistance 2017-01-13     #1012 Paid Check   \n",
       "\n",
       "  transaction_type   amount  running_balance  trans_order  YearMon  \n",
       "0           credit     3.00          1032.65            2   201703  \n",
       "1            debit  1062.78          6889.75            6   201701  \n",
       "2            debit  1063.73         11125.54            2   201701  \n",
       "3            debit   600.99         45497.83           28   201701  \n",
       "4            debit  1284.15         21832.54           11   201701  "
      ]
     },
     "execution_count": 3,
     "metadata": {},
     "output_type": "execute_result"
    }
   ],
   "source": [
    "# CHECK FIRST FEW RECORDS\n",
    "dt1.head()"
   ]
  },
  {
   "cell_type": "code",
   "execution_count": 4,
   "metadata": {
    "scrolled": true
   },
   "outputs": [
    {
     "data": {
      "text/html": [
       "<div>\n",
       "<style scoped>\n",
       "    .dataframe tbody tr th:only-of-type {\n",
       "        vertical-align: middle;\n",
       "    }\n",
       "\n",
       "    .dataframe tbody tr th {\n",
       "        vertical-align: top;\n",
       "    }\n",
       "\n",
       "    .dataframe thead th {\n",
       "        text-align: right;\n",
       "    }\n",
       "</style>\n",
       "<table border=\"1\" class=\"dataframe\">\n",
       "  <thead>\n",
       "    <tr style=\"text-align: right;\">\n",
       "      <th></th>\n",
       "      <th>Lead ID</th>\n",
       "      <th>bankid</th>\n",
       "      <th>bank_account_id</th>\n",
       "      <th>amount</th>\n",
       "      <th>running_balance</th>\n",
       "      <th>trans_order</th>\n",
       "      <th>YearMon</th>\n",
       "    </tr>\n",
       "  </thead>\n",
       "  <tbody>\n",
       "    <tr>\n",
       "      <th>count</th>\n",
       "      <td>29029.000000</td>\n",
       "      <td>29029.000000</td>\n",
       "      <td>29029.000000</td>\n",
       "      <td>29029.000000</td>\n",
       "      <td>29029.000000</td>\n",
       "      <td>29029.000000</td>\n",
       "      <td>29029.000000</td>\n",
       "    </tr>\n",
       "    <tr>\n",
       "      <th>mean</th>\n",
       "      <td>320714.718282</td>\n",
       "      <td>8823.888491</td>\n",
       "      <td>14052.030556</td>\n",
       "      <td>1927.453475</td>\n",
       "      <td>10247.851975</td>\n",
       "      <td>5.397223</td>\n",
       "      <td>201621.161184</td>\n",
       "    </tr>\n",
       "    <tr>\n",
       "      <th>std</th>\n",
       "      <td>5051.317064</td>\n",
       "      <td>683.963276</td>\n",
       "      <td>703.164708</td>\n",
       "      <td>7450.638452</td>\n",
       "      <td>20055.683105</td>\n",
       "      <td>5.445505</td>\n",
       "      <td>33.362569</td>\n",
       "    </tr>\n",
       "    <tr>\n",
       "      <th>min</th>\n",
       "      <td>308148.000000</td>\n",
       "      <td>6192.000000</td>\n",
       "      <td>12460.000000</td>\n",
       "      <td>0.000000</td>\n",
       "      <td>-84727.980000</td>\n",
       "      <td>1.000000</td>\n",
       "      <td>201511.000000</td>\n",
       "    </tr>\n",
       "    <tr>\n",
       "      <th>25%</th>\n",
       "      <td>316728.000000</td>\n",
       "      <td>8534.000000</td>\n",
       "      <td>13234.000000</td>\n",
       "      <td>29.250000</td>\n",
       "      <td>798.850000</td>\n",
       "      <td>2.000000</td>\n",
       "      <td>201606.000000</td>\n",
       "    </tr>\n",
       "    <tr>\n",
       "      <th>50%</th>\n",
       "      <td>321380.000000</td>\n",
       "      <td>8535.000000</td>\n",
       "      <td>14049.000000</td>\n",
       "      <td>160.500000</td>\n",
       "      <td>3820.940000</td>\n",
       "      <td>4.000000</td>\n",
       "      <td>201609.000000</td>\n",
       "    </tr>\n",
       "    <tr>\n",
       "      <th>75%</th>\n",
       "      <td>323253.000000</td>\n",
       "      <td>8545.000000</td>\n",
       "      <td>14636.000000</td>\n",
       "      <td>788.460000</td>\n",
       "      <td>11898.880000</td>\n",
       "      <td>7.000000</td>\n",
       "      <td>201611.000000</td>\n",
       "    </tr>\n",
       "    <tr>\n",
       "      <th>max</th>\n",
       "      <td>330698.000000</td>\n",
       "      <td>10656.000000</td>\n",
       "      <td>15148.000000</td>\n",
       "      <td>419000.000000</td>\n",
       "      <td>437942.290000</td>\n",
       "      <td>48.000000</td>\n",
       "      <td>201703.000000</td>\n",
       "    </tr>\n",
       "  </tbody>\n",
       "</table>\n",
       "</div>"
      ],
      "text/plain": [
       "             Lead ID        bankid  bank_account_id         amount  \\\n",
       "count   29029.000000  29029.000000     29029.000000   29029.000000   \n",
       "mean   320714.718282   8823.888491     14052.030556    1927.453475   \n",
       "std      5051.317064    683.963276       703.164708    7450.638452   \n",
       "min    308148.000000   6192.000000     12460.000000       0.000000   \n",
       "25%    316728.000000   8534.000000     13234.000000      29.250000   \n",
       "50%    321380.000000   8535.000000     14049.000000     160.500000   \n",
       "75%    323253.000000   8545.000000     14636.000000     788.460000   \n",
       "max    330698.000000  10656.000000     15148.000000  419000.000000   \n",
       "\n",
       "       running_balance   trans_order        YearMon  \n",
       "count     29029.000000  29029.000000   29029.000000  \n",
       "mean      10247.851975      5.397223  201621.161184  \n",
       "std       20055.683105      5.445505      33.362569  \n",
       "min      -84727.980000      1.000000  201511.000000  \n",
       "25%         798.850000      2.000000  201606.000000  \n",
       "50%        3820.940000      4.000000  201609.000000  \n",
       "75%       11898.880000      7.000000  201611.000000  \n",
       "max      437942.290000     48.000000  201703.000000  "
      ]
     },
     "execution_count": 4,
     "metadata": {},
     "output_type": "execute_result"
    }
   ],
   "source": [
    "#SEE THE DESCRIPTIVE STATS\n",
    "dt1.describe()"
   ]
  },
  {
   "cell_type": "markdown",
   "metadata": {},
   "source": [
    "## Exercises"
   ]
  },
  {
   "cell_type": "markdown",
   "metadata": {},
   "source": [
    "### Solutions to exercises in order"
   ]
  },
  {
   "cell_type": "markdown",
   "metadata": {},
   "source": [
    "####  Exercise #1. Count the number of merchants, bank accounts and tabulate:"
   ]
  },
  {
   "cell_type": "code",
   "execution_count": null,
   "metadata": {},
   "outputs": [],
   "source": [
    "Num_Merchants=dt1.Lead_ID.nunique()\n",
    "print(\"Number of Unique Merchants: \",Num_Merchants)\n",
    "#Number of Unique Merchants:   21"
   ]
  },
  {
   "cell_type": "markdown",
   "metadata": {},
   "source": [
    "##### Check If bank account_id and account_number are unique"
   ]
  },
  {
   "cell_type": "code",
   "execution_count": 8,
   "metadata": {},
   "outputs": [
    {
     "data": {
      "text/plain": [
       "bank_account_id    53\n",
       "account_number     52\n",
       "dtype: int64"
      ]
     },
     "execution_count": 8,
     "metadata": {},
     "output_type": "execute_result"
    }
   ],
   "source": [
    "dt1.groupby('Lead_ID')['bank_account_id','account_number'].nunique().sum()"
   ]
  },
  {
   "cell_type": "markdown",
   "metadata": {},
   "source": [
    "<b>There is one account number associated with 2 bank account id, this seems suspicious</b>"
   ]
  },
  {
   "cell_type": "markdown",
   "metadata": {},
   "source": [
    "#### Exercise 1. (i) the number of bank accounts for each merchant"
   ]
  },
  {
   "cell_type": "code",
   "execution_count": 9,
   "metadata": {
    "scrolled": true
   },
   "outputs": [
    {
     "data": {
      "text/html": [
       "<div>\n",
       "<style scoped>\n",
       "    .dataframe tbody tr th:only-of-type {\n",
       "        vertical-align: middle;\n",
       "    }\n",
       "\n",
       "    .dataframe tbody tr th {\n",
       "        vertical-align: top;\n",
       "    }\n",
       "\n",
       "    .dataframe thead th {\n",
       "        text-align: right;\n",
       "    }\n",
       "</style>\n",
       "<table border=\"1\" class=\"dataframe\">\n",
       "  <thead>\n",
       "    <tr style=\"text-align: right;\">\n",
       "      <th></th>\n",
       "      <th>bank_account_id</th>\n",
       "      <th>account_number</th>\n",
       "    </tr>\n",
       "    <tr>\n",
       "      <th>Lead_ID</th>\n",
       "      <th></th>\n",
       "      <th></th>\n",
       "    </tr>\n",
       "  </thead>\n",
       "  <tbody>\n",
       "    <tr>\n",
       "      <th>308148</th>\n",
       "      <td>1</td>\n",
       "      <td>1</td>\n",
       "    </tr>\n",
       "    <tr>\n",
       "      <th>310443</th>\n",
       "      <td>2</td>\n",
       "      <td>2</td>\n",
       "    </tr>\n",
       "    <tr>\n",
       "      <th>312745</th>\n",
       "      <td>5</td>\n",
       "      <td>5</td>\n",
       "    </tr>\n",
       "    <tr>\n",
       "      <th>313082</th>\n",
       "      <td>1</td>\n",
       "      <td>1</td>\n",
       "    </tr>\n",
       "    <tr>\n",
       "      <th>314036</th>\n",
       "      <td>1</td>\n",
       "      <td>1</td>\n",
       "    </tr>\n",
       "    <tr>\n",
       "      <th>314559</th>\n",
       "      <td>2</td>\n",
       "      <td>2</td>\n",
       "    </tr>\n",
       "    <tr>\n",
       "      <th>316728</th>\n",
       "      <td>6</td>\n",
       "      <td>6</td>\n",
       "    </tr>\n",
       "    <tr>\n",
       "      <th>318465</th>\n",
       "      <td>7</td>\n",
       "      <td>7</td>\n",
       "    </tr>\n",
       "    <tr>\n",
       "      <th>321146</th>\n",
       "      <td>2</td>\n",
       "      <td>1</td>\n",
       "    </tr>\n",
       "    <tr>\n",
       "      <th>321218</th>\n",
       "      <td>1</td>\n",
       "      <td>1</td>\n",
       "    </tr>\n",
       "    <tr>\n",
       "      <th>321356</th>\n",
       "      <td>5</td>\n",
       "      <td>5</td>\n",
       "    </tr>\n",
       "    <tr>\n",
       "      <th>321380</th>\n",
       "      <td>8</td>\n",
       "      <td>8</td>\n",
       "    </tr>\n",
       "    <tr>\n",
       "      <th>321671</th>\n",
       "      <td>1</td>\n",
       "      <td>1</td>\n",
       "    </tr>\n",
       "    <tr>\n",
       "      <th>323253</th>\n",
       "      <td>2</td>\n",
       "      <td>2</td>\n",
       "    </tr>\n",
       "    <tr>\n",
       "      <th>325142</th>\n",
       "      <td>1</td>\n",
       "      <td>1</td>\n",
       "    </tr>\n",
       "    <tr>\n",
       "      <th>325330</th>\n",
       "      <td>1</td>\n",
       "      <td>1</td>\n",
       "    </tr>\n",
       "    <tr>\n",
       "      <th>326050</th>\n",
       "      <td>1</td>\n",
       "      <td>1</td>\n",
       "    </tr>\n",
       "    <tr>\n",
       "      <th>326062</th>\n",
       "      <td>3</td>\n",
       "      <td>3</td>\n",
       "    </tr>\n",
       "    <tr>\n",
       "      <th>328212</th>\n",
       "      <td>1</td>\n",
       "      <td>1</td>\n",
       "    </tr>\n",
       "    <tr>\n",
       "      <th>329803</th>\n",
       "      <td>1</td>\n",
       "      <td>1</td>\n",
       "    </tr>\n",
       "    <tr>\n",
       "      <th>330698</th>\n",
       "      <td>1</td>\n",
       "      <td>1</td>\n",
       "    </tr>\n",
       "  </tbody>\n",
       "</table>\n",
       "</div>"
      ],
      "text/plain": [
       "         bank_account_id  account_number\n",
       "Lead_ID                                 \n",
       "308148                 1               1\n",
       "310443                 2               2\n",
       "312745                 5               5\n",
       "313082                 1               1\n",
       "314036                 1               1\n",
       "314559                 2               2\n",
       "316728                 6               6\n",
       "318465                 7               7\n",
       "321146                 2               1\n",
       "321218                 1               1\n",
       "321356                 5               5\n",
       "321380                 8               8\n",
       "321671                 1               1\n",
       "323253                 2               2\n",
       "325142                 1               1\n",
       "325330                 1               1\n",
       "326050                 1               1\n",
       "326062                 3               3\n",
       "328212                 1               1\n",
       "329803                 1               1\n",
       "330698                 1               1"
      ]
     },
     "execution_count": 9,
     "metadata": {},
     "output_type": "execute_result"
    }
   ],
   "source": [
    "dt1.groupby('Lead_ID')['bank_account_id','account_number'].nunique()"
   ]
  },
  {
   "cell_type": "markdown",
   "metadata": {},
   "source": [
    "<b>There customer 321146 one account number associated with 2 bank account id, this seems suspicious</b>"
   ]
  },
  {
   "cell_type": "markdown",
   "metadata": {},
   "source": [
    "#### Exercise 1. (ii) the number of months of each bank account for which data is available."
   ]
  },
  {
   "cell_type": "code",
   "execution_count": 11,
   "metadata": {},
   "outputs": [
    {
     "name": "stdout",
     "output_type": "stream",
     "text": [
      "   Lead_ID  bank_account_id  YearMon\n",
      "0   308148            12460       10\n",
      "1   310443            12654        7\n",
      "2   310443            12655       12\n",
      "3   312745            12835        5\n",
      "4   312745            12836        5\n"
     ]
    },
    {
     "data": {
      "text/html": [
       "<div>\n",
       "<style scoped>\n",
       "    .dataframe tbody tr th:only-of-type {\n",
       "        vertical-align: middle;\n",
       "    }\n",
       "\n",
       "    .dataframe tbody tr th {\n",
       "        vertical-align: top;\n",
       "    }\n",
       "\n",
       "    .dataframe thead th {\n",
       "        text-align: right;\n",
       "    }\n",
       "</style>\n",
       "<table border=\"1\" class=\"dataframe\">\n",
       "  <thead>\n",
       "    <tr style=\"text-align: right;\">\n",
       "      <th></th>\n",
       "      <th>Lead_ID</th>\n",
       "      <th>bankid</th>\n",
       "      <th>bank_account_id</th>\n",
       "      <th>account_number</th>\n",
       "      <th>Industry</th>\n",
       "      <th>post_date</th>\n",
       "      <th>description</th>\n",
       "      <th>transaction_type</th>\n",
       "      <th>amount</th>\n",
       "      <th>running_balance</th>\n",
       "      <th>trans_order</th>\n",
       "      <th>YearMon</th>\n",
       "    </tr>\n",
       "  </thead>\n",
       "  <tbody>\n",
       "    <tr>\n",
       "      <th>15906</th>\n",
       "      <td>326062</td>\n",
       "      <td>8535</td>\n",
       "      <td>14045</td>\n",
       "      <td>xxxx5576</td>\n",
       "      <td>Accommodation and Food Services</td>\n",
       "      <td>2017-01-25</td>\n",
       "      <td>Online Transfer to CHK ...0403 transaction#: x...</td>\n",
       "      <td>debit</td>\n",
       "      <td>0.54</td>\n",
       "      <td>50.00</td>\n",
       "      <td>1</td>\n",
       "      <td>2017-01</td>\n",
       "    </tr>\n",
       "    <tr>\n",
       "      <th>16120</th>\n",
       "      <td>326062</td>\n",
       "      <td>8535</td>\n",
       "      <td>14045</td>\n",
       "      <td>xxxx5576</td>\n",
       "      <td>Accommodation and Food Services</td>\n",
       "      <td>2016-12-05</td>\n",
       "      <td>Online Transfer to CHK ...9573 transaction#: x...</td>\n",
       "      <td>debit</td>\n",
       "      <td>50.00</td>\n",
       "      <td>50.54</td>\n",
       "      <td>1</td>\n",
       "      <td>2016-12</td>\n",
       "    </tr>\n",
       "  </tbody>\n",
       "</table>\n",
       "</div>"
      ],
      "text/plain": [
       "       Lead_ID  bankid  bank_account_id account_number  \\\n",
       "15906   326062    8535            14045       xxxx5576   \n",
       "16120   326062    8535            14045       xxxx5576   \n",
       "\n",
       "                              Industry  post_date  \\\n",
       "15906  Accommodation and Food Services 2017-01-25   \n",
       "16120  Accommodation and Food Services 2016-12-05   \n",
       "\n",
       "                                             description transaction_type  \\\n",
       "15906  Online Transfer to CHK ...0403 transaction#: x...            debit   \n",
       "16120  Online Transfer to CHK ...9573 transaction#: x...            debit   \n",
       "\n",
       "       amount  running_balance  trans_order YearMon  \n",
       "15906    0.54            50.00            1 2017-01  \n",
       "16120   50.00            50.54            1 2016-12  "
      ]
     },
     "execution_count": 11,
     "metadata": {},
     "output_type": "execute_result"
    }
   ],
   "source": [
    "#  convert the result to dataframe for better looks and analysis\n",
    "res_ii=dt1.groupby(['Lead_ID','bank_account_id']).YearMon.nunique().reset_index()\n",
    "print(res_ii.head())\n",
    "\n",
    "#verify above result\n",
    "dt1.loc[ dt1.bank_account_id==14045]"
   ]
  },
  {
   "cell_type": "markdown",
   "metadata": {},
   "source": [
    "##### Exercise 1. #(iii) the total number of credits (deposits), debits (withdrawals) and their averages per month for each bank account and each merchant\n"
   ]
  },
  {
   "cell_type": "code",
   "execution_count": 12,
   "metadata": {
    "scrolled": true
   },
   "outputs": [
    {
     "name": "stdout",
     "output_type": "stream",
     "text": [
      "  Lead_ID bank_account_id transaction_type amount              \n",
      "                                             size          mean\n",
      "0  308148           12460           credit    172    387.273430\n",
      "1  308148           12460            debit    320    193.123844\n",
      "2  310443           12654           credit     27  11434.547407\n",
      "3  310443           12654            debit    223   1474.867175\n",
      "4  310443           12655           credit      8   2050.055000\n",
      "  Lead_ID bank_account_id transaction_type amount         \n",
      "                                             size     mean\n",
      "8  312745           12836           credit      3  6351.93\n",
      "9  312745           12836            debit      5  3807.00\n"
     ]
    },
    {
     "data": {
      "text/html": [
       "<div>\n",
       "<style scoped>\n",
       "    .dataframe tbody tr th:only-of-type {\n",
       "        vertical-align: middle;\n",
       "    }\n",
       "\n",
       "    .dataframe tbody tr th {\n",
       "        vertical-align: top;\n",
       "    }\n",
       "\n",
       "    .dataframe thead th {\n",
       "        text-align: right;\n",
       "    }\n",
       "</style>\n",
       "<table border=\"1\" class=\"dataframe\">\n",
       "  <thead>\n",
       "    <tr style=\"text-align: right;\">\n",
       "      <th></th>\n",
       "      <th>Lead_ID</th>\n",
       "      <th>bankid</th>\n",
       "      <th>bank_account_id</th>\n",
       "      <th>account_number</th>\n",
       "      <th>Industry</th>\n",
       "      <th>post_date</th>\n",
       "      <th>description</th>\n",
       "      <th>transaction_type</th>\n",
       "      <th>amount</th>\n",
       "      <th>running_balance</th>\n",
       "      <th>trans_order</th>\n",
       "      <th>YearMon</th>\n",
       "    </tr>\n",
       "  </thead>\n",
       "  <tbody>\n",
       "    <tr>\n",
       "      <th>10263</th>\n",
       "      <td>312745</td>\n",
       "      <td>8544</td>\n",
       "      <td>12836</td>\n",
       "      <td>7186</td>\n",
       "      <td>Professional, Scientific, and Technical Services</td>\n",
       "      <td>2016-06-03</td>\n",
       "      <td>DEPOSIT</td>\n",
       "      <td>credit</td>\n",
       "      <td>2555.79</td>\n",
       "      <td>2555.79</td>\n",
       "      <td>1</td>\n",
       "      <td>2016-06</td>\n",
       "    </tr>\n",
       "    <tr>\n",
       "      <th>10677</th>\n",
       "      <td>312745</td>\n",
       "      <td>8544</td>\n",
       "      <td>12836</td>\n",
       "      <td>7186</td>\n",
       "      <td>Professional, Scientific, and Technical Services</td>\n",
       "      <td>2016-08-23</td>\n",
       "      <td>DEPOSIT MADE IN A BRANCH/STORE #xxxxx3963</td>\n",
       "      <td>credit</td>\n",
       "      <td>1500.00</td>\n",
       "      <td>2020.79</td>\n",
       "      <td>1</td>\n",
       "      <td>2016-08</td>\n",
       "    </tr>\n",
       "    <tr>\n",
       "      <th>10764</th>\n",
       "      <td>312745</td>\n",
       "      <td>8544</td>\n",
       "      <td>12836</td>\n",
       "      <td>7186</td>\n",
       "      <td>Professional, Scientific, and Technical Services</td>\n",
       "      <td>2016-06-15</td>\n",
       "      <td>DEPOSIT MADE IN A BRANCH/STORE #xxxxx6367</td>\n",
       "      <td>credit</td>\n",
       "      <td>15000.00</td>\n",
       "      <td>15555.79</td>\n",
       "      <td>1</td>\n",
       "      <td>2016-06</td>\n",
       "    </tr>\n",
       "    <tr>\n",
       "      <th>14358</th>\n",
       "      <td>312745</td>\n",
       "      <td>8544</td>\n",
       "      <td>12836</td>\n",
       "      <td>7186</td>\n",
       "      <td>Professional, Scientific, and Technical Services</td>\n",
       "      <td>2016-06-17</td>\n",
       "      <td>NSF RETURN ITEM FEE FOR A TRANSACTION RECEIVED...</td>\n",
       "      <td>debit</td>\n",
       "      <td>35.00</td>\n",
       "      <td>15520.79</td>\n",
       "      <td>1</td>\n",
       "      <td>2016-06</td>\n",
       "    </tr>\n",
       "    <tr>\n",
       "      <th>16443</th>\n",
       "      <td>312745</td>\n",
       "      <td>8544</td>\n",
       "      <td>12836</td>\n",
       "      <td>7186</td>\n",
       "      <td>Professional, Scientific, and Technical Services</td>\n",
       "      <td>2016-11-21</td>\n",
       "      <td>ONLINE TRANSFER TO RANGOLI LLC BUSINESS CHECKI...</td>\n",
       "      <td>debit</td>\n",
       "      <td>500.00</td>\n",
       "      <td>20.79</td>\n",
       "      <td>1</td>\n",
       "      <td>2016-11</td>\n",
       "    </tr>\n",
       "    <tr>\n",
       "      <th>16447</th>\n",
       "      <td>312745</td>\n",
       "      <td>8544</td>\n",
       "      <td>12836</td>\n",
       "      <td>7186</td>\n",
       "      <td>Professional, Scientific, and Technical Services</td>\n",
       "      <td>2016-10-06</td>\n",
       "      <td>ONLINE TRANSFER TO RANGOLI LLC BUSINESS CHECKI...</td>\n",
       "      <td>debit</td>\n",
       "      <td>1500.00</td>\n",
       "      <td>520.79</td>\n",
       "      <td>1</td>\n",
       "      <td>2016-10</td>\n",
       "    </tr>\n",
       "    <tr>\n",
       "      <th>24265</th>\n",
       "      <td>312745</td>\n",
       "      <td>8544</td>\n",
       "      <td>12836</td>\n",
       "      <td>7186</td>\n",
       "      <td>Professional, Scientific, and Technical Services</td>\n",
       "      <td>2016-06-09</td>\n",
       "      <td>WITHDRAWAL MADE IN A BRANCH/STORE</td>\n",
       "      <td>debit</td>\n",
       "      <td>2000.00</td>\n",
       "      <td>555.79</td>\n",
       "      <td>1</td>\n",
       "      <td>2016-06</td>\n",
       "    </tr>\n",
       "    <tr>\n",
       "      <th>24266</th>\n",
       "      <td>312745</td>\n",
       "      <td>8544</td>\n",
       "      <td>12836</td>\n",
       "      <td>7186</td>\n",
       "      <td>Professional, Scientific, and Technical Services</td>\n",
       "      <td>2016-07-06</td>\n",
       "      <td>WITHDRAWAL MADE IN A BRANCH/STORE</td>\n",
       "      <td>debit</td>\n",
       "      <td>15000.00</td>\n",
       "      <td>520.79</td>\n",
       "      <td>1</td>\n",
       "      <td>2016-07</td>\n",
       "    </tr>\n",
       "  </tbody>\n",
       "</table>\n",
       "</div>"
      ],
      "text/plain": [
       "       Lead_ID  bankid  bank_account_id account_number  \\\n",
       "10263   312745    8544            12836           7186   \n",
       "10677   312745    8544            12836           7186   \n",
       "10764   312745    8544            12836           7186   \n",
       "14358   312745    8544            12836           7186   \n",
       "16443   312745    8544            12836           7186   \n",
       "16447   312745    8544            12836           7186   \n",
       "24265   312745    8544            12836           7186   \n",
       "24266   312745    8544            12836           7186   \n",
       "\n",
       "                                               Industry  post_date  \\\n",
       "10263  Professional, Scientific, and Technical Services 2016-06-03   \n",
       "10677  Professional, Scientific, and Technical Services 2016-08-23   \n",
       "10764  Professional, Scientific, and Technical Services 2016-06-15   \n",
       "14358  Professional, Scientific, and Technical Services 2016-06-17   \n",
       "16443  Professional, Scientific, and Technical Services 2016-11-21   \n",
       "16447  Professional, Scientific, and Technical Services 2016-10-06   \n",
       "24265  Professional, Scientific, and Technical Services 2016-06-09   \n",
       "24266  Professional, Scientific, and Technical Services 2016-07-06   \n",
       "\n",
       "                                             description transaction_type  \\\n",
       "10263                                            DEPOSIT           credit   \n",
       "10677          DEPOSIT MADE IN A BRANCH/STORE #xxxxx3963           credit   \n",
       "10764          DEPOSIT MADE IN A BRANCH/STORE #xxxxx6367           credit   \n",
       "14358  NSF RETURN ITEM FEE FOR A TRANSACTION RECEIVED...            debit   \n",
       "16443  ONLINE TRANSFER TO RANGOLI LLC BUSINESS CHECKI...            debit   \n",
       "16447  ONLINE TRANSFER TO RANGOLI LLC BUSINESS CHECKI...            debit   \n",
       "24265                  WITHDRAWAL MADE IN A BRANCH/STORE            debit   \n",
       "24266                  WITHDRAWAL MADE IN A BRANCH/STORE            debit   \n",
       "\n",
       "         amount  running_balance  trans_order YearMon  \n",
       "10263   2555.79          2555.79            1 2016-06  \n",
       "10677   1500.00          2020.79            1 2016-08  \n",
       "10764  15000.00         15555.79            1 2016-06  \n",
       "14358     35.00         15520.79            1 2016-06  \n",
       "16443    500.00            20.79            1 2016-11  \n",
       "16447   1500.00           520.79            1 2016-10  \n",
       "24265   2000.00           555.79            1 2016-06  \n",
       "24266  15000.00           520.79            1 2016-07  "
      ]
     },
     "execution_count": 12,
     "metadata": {},
     "output_type": "execute_result"
    }
   ],
   "source": [
    "res_iii=dt1.groupby(['Lead_ID','bank_account_id','transaction_type']\n",
    "            ).agg({'amount': ['size','mean']}).reset_index()\n",
    "print(res_iii.head())\n",
    "#verify results\n",
    "print(res_iii.loc[res_iii.bank_account_id==12836])\n",
    "dt1.loc[ dt1.bank_account_id==12836]"
   ]
  },
  {
   "cell_type": "markdown",
   "metadata": {},
   "source": [
    "##### Exercise 1. (iv) the total dollar value of credits, debits and their averages per month for each bank account and each merchant"
   ]
  },
  {
   "cell_type": "code",
   "execution_count": 13,
   "metadata": {},
   "outputs": [
    {
     "data": {
      "text/html": [
       "<div>\n",
       "<style scoped>\n",
       "    .dataframe tbody tr th:only-of-type {\n",
       "        vertical-align: middle;\n",
       "    }\n",
       "\n",
       "    .dataframe tbody tr th {\n",
       "        vertical-align: top;\n",
       "    }\n",
       "\n",
       "    .dataframe thead tr th {\n",
       "        text-align: left;\n",
       "    }\n",
       "</style>\n",
       "<table border=\"1\" class=\"dataframe\">\n",
       "  <thead>\n",
       "    <tr>\n",
       "      <th></th>\n",
       "      <th>Lead_ID</th>\n",
       "      <th>bank_account_id</th>\n",
       "      <th>transaction_type</th>\n",
       "      <th>YearMon</th>\n",
       "      <th colspan=\"3\" halign=\"left\">amount</th>\n",
       "    </tr>\n",
       "    <tr>\n",
       "      <th></th>\n",
       "      <th></th>\n",
       "      <th></th>\n",
       "      <th></th>\n",
       "      <th></th>\n",
       "      <th>size</th>\n",
       "      <th>sum</th>\n",
       "      <th>mean</th>\n",
       "    </tr>\n",
       "  </thead>\n",
       "  <tbody>\n",
       "    <tr>\n",
       "      <th>0</th>\n",
       "      <td>308148</td>\n",
       "      <td>12460</td>\n",
       "      <td>credit</td>\n",
       "      <td>2016-03</td>\n",
       "      <td>5</td>\n",
       "      <td>6098.62</td>\n",
       "      <td>1219.7240</td>\n",
       "    </tr>\n",
       "    <tr>\n",
       "      <th>1</th>\n",
       "      <td>308148</td>\n",
       "      <td>12460</td>\n",
       "      <td>credit</td>\n",
       "      <td>2016-04</td>\n",
       "      <td>1</td>\n",
       "      <td>1500.00</td>\n",
       "      <td>1500.0000</td>\n",
       "    </tr>\n",
       "    <tr>\n",
       "      <th>2</th>\n",
       "      <td>308148</td>\n",
       "      <td>12460</td>\n",
       "      <td>credit</td>\n",
       "      <td>2016-05</td>\n",
       "      <td>4</td>\n",
       "      <td>774.95</td>\n",
       "      <td>193.7375</td>\n",
       "    </tr>\n",
       "    <tr>\n",
       "      <th>3</th>\n",
       "      <td>308148</td>\n",
       "      <td>12460</td>\n",
       "      <td>credit</td>\n",
       "      <td>2016-06</td>\n",
       "      <td>4</td>\n",
       "      <td>2369.38</td>\n",
       "      <td>592.3450</td>\n",
       "    </tr>\n",
       "    <tr>\n",
       "      <th>4</th>\n",
       "      <td>308148</td>\n",
       "      <td>12460</td>\n",
       "      <td>credit</td>\n",
       "      <td>2016-07</td>\n",
       "      <td>20</td>\n",
       "      <td>8105.04</td>\n",
       "      <td>405.2520</td>\n",
       "    </tr>\n",
       "  </tbody>\n",
       "</table>\n",
       "</div>"
      ],
      "text/plain": [
       "  Lead_ID bank_account_id transaction_type YearMon amount                    \n",
       "                                                     size      sum       mean\n",
       "0  308148           12460           credit 2016-03      5  6098.62  1219.7240\n",
       "1  308148           12460           credit 2016-04      1  1500.00  1500.0000\n",
       "2  308148           12460           credit 2016-05      4   774.95   193.7375\n",
       "3  308148           12460           credit 2016-06      4  2369.38   592.3450\n",
       "4  308148           12460           credit 2016-07     20  8105.04   405.2520"
      ]
     },
     "execution_count": 13,
     "metadata": {},
     "output_type": "execute_result"
    }
   ],
   "source": [
    "res_iv=dt1.groupby(['Lead_ID','bank_account_id','transaction_type','YearMon']\n",
    "            ).agg({'amount': ['size','sum','mean']}).reset_index()\n",
    "res_iv.head()"
   ]
  },
  {
   "cell_type": "markdown",
   "metadata": {},
   "source": [
    "##### Exercise 1. (v) Aggregate the answers to (iii) and (iv) at the merchant level, industry level and bankid level"
   ]
  },
  {
   "cell_type": "code",
   "execution_count": 15,
   "metadata": {},
   "outputs": [
    {
     "data": {
      "text/html": [
       "<div>\n",
       "<style scoped>\n",
       "    .dataframe tbody tr th:only-of-type {\n",
       "        vertical-align: middle;\n",
       "    }\n",
       "\n",
       "    .dataframe tbody tr th {\n",
       "        vertical-align: top;\n",
       "    }\n",
       "\n",
       "    .dataframe thead tr th {\n",
       "        text-align: left;\n",
       "    }\n",
       "</style>\n",
       "<table border=\"1\" class=\"dataframe\">\n",
       "  <thead>\n",
       "    <tr>\n",
       "      <th></th>\n",
       "      <th>Lead_ID</th>\n",
       "      <th>bankid</th>\n",
       "      <th>Industry</th>\n",
       "      <th colspan=\"3\" halign=\"left\">amount</th>\n",
       "    </tr>\n",
       "    <tr>\n",
       "      <th></th>\n",
       "      <th></th>\n",
       "      <th></th>\n",
       "      <th></th>\n",
       "      <th>size</th>\n",
       "      <th>sum</th>\n",
       "      <th>mean</th>\n",
       "    </tr>\n",
       "  </thead>\n",
       "  <tbody>\n",
       "    <tr>\n",
       "      <th>0</th>\n",
       "      <td>308148</td>\n",
       "      <td>8535</td>\n",
       "      <td>Accommodation and Food Services</td>\n",
       "      <td>492</td>\n",
       "      <td>128410.66</td>\n",
       "      <td>260.997276</td>\n",
       "    </tr>\n",
       "    <tr>\n",
       "      <th>1</th>\n",
       "      <td>310443</td>\n",
       "      <td>6192</td>\n",
       "      <td>Construction</td>\n",
       "      <td>281</td>\n",
       "      <td>671795.26</td>\n",
       "      <td>2390.730463</td>\n",
       "    </tr>\n",
       "    <tr>\n",
       "      <th>2</th>\n",
       "      <td>312745</td>\n",
       "      <td>8544</td>\n",
       "      <td>Professional, Scientific, and Technical Services</td>\n",
       "      <td>760</td>\n",
       "      <td>1432688.42</td>\n",
       "      <td>1885.116342</td>\n",
       "    </tr>\n",
       "    <tr>\n",
       "      <th>3</th>\n",
       "      <td>313082</td>\n",
       "      <td>8535</td>\n",
       "      <td>Professional, Scientific, and Technical Services</td>\n",
       "      <td>1138</td>\n",
       "      <td>1105902.61</td>\n",
       "      <td>971.794912</td>\n",
       "    </tr>\n",
       "    <tr>\n",
       "      <th>4</th>\n",
       "      <td>314036</td>\n",
       "      <td>9966</td>\n",
       "      <td>Retail Trade</td>\n",
       "      <td>2261</td>\n",
       "      <td>878894.92</td>\n",
       "      <td>388.719558</td>\n",
       "    </tr>\n",
       "  </tbody>\n",
       "</table>\n",
       "</div>"
      ],
      "text/plain": [
       "  Lead_ID bankid                                          Industry amount  \\\n",
       "                                                                     size   \n",
       "0  308148   8535                   Accommodation and Food Services    492   \n",
       "1  310443   6192                                      Construction    281   \n",
       "2  312745   8544  Professional, Scientific, and Technical Services    760   \n",
       "3  313082   8535  Professional, Scientific, and Technical Services   1138   \n",
       "4  314036   9966                                      Retail Trade   2261   \n",
       "\n",
       "                            \n",
       "          sum         mean  \n",
       "0   128410.66   260.997276  \n",
       "1   671795.26  2390.730463  \n",
       "2  1432688.42  1885.116342  \n",
       "3  1105902.61   971.794912  \n",
       "4   878894.92   388.719558  "
      ]
     },
     "execution_count": 15,
     "metadata": {},
     "output_type": "execute_result"
    }
   ],
   "source": [
    "res_v=dt1.groupby(['Lead_ID','bankid','Industry']\n",
    "            ).agg({'amount': ['size','sum','mean']}).reset_index()\n",
    "res_v.head()"
   ]
  },
  {
   "cell_type": "markdown",
   "metadata": {},
   "source": [
    "##### Exercise 1. (vi) Develop a slide visualizing the relationship between LeadID, bankid, bank_account_id and account_number "
   ]
  },
  {
   "cell_type": "code",
   "execution_count": 14,
   "metadata": {
    "scrolled": true
   },
   "outputs": [
    {
     "data": {
      "text/plain": [
       "Lead_ID  bankid  bank_account_id  account_number\n",
       "308148   8535    12460            xxxx9928           492\n",
       "310443   6192    12654            xxxx9363           250\n",
       "                 12655            xxxx9355            31\n",
       "312745   8544    12835            2549                18\n",
       "                 12836            7186                 8\n",
       "                 12837            3266                 1\n",
       "                 12838            8423                82\n",
       "                 12839            3582               651\n",
       "313082   8535    13233            xxxx4241          1138\n",
       "314036   9966    13226            xxxx7053          2261\n",
       "314559   8534    13271            xxxx3965           415\n",
       "                 13273            xxxx3981            12\n",
       "316728   8534    13272            xxxx4095           123\n",
       "         8544    13228            8151               479\n",
       "                 13230            4615                87\n",
       "                 13232            8118              1708\n",
       "                 13234            8126               195\n",
       "                 13235            7285                20\n",
       "318465   9262    13419            xxxx7330          1361\n",
       "                 13420            xxxx0978             8\n",
       "                 13421            xxxx1620             2\n",
       "                 13422            xxxx1696           200\n",
       "                 13423            xxxx4335           191\n",
       "                 13424            xxxx1584           100\n",
       "                 13425            xxxx6643           201\n",
       "321146   10479   13970            1                  421\n",
       "                 13971            1                  154\n",
       "321218   10656   14779            x0441              906\n",
       "321356   8544    15142            3695               404\n",
       "                 15144            6314               235\n",
       "                 15146            9793               784\n",
       "                 15147            8284                33\n",
       "                 15148            3282                29\n",
       "321380   8534    14634            xxxx4184            97\n",
       "                 14635            xxxx4197            95\n",
       "                 14636            xxxx4207          2536\n",
       "                 14637            xxxx4210          2395\n",
       "         10591   14630            xxxx1985           142\n",
       "                 14631            xxxx1993           128\n",
       "                 14632            xxxx2009           138\n",
       "                 14633            xxxx1977           181\n",
       "321671   8534    14629            xxxx0273          2430\n",
       "323253   8545    13877            4342                24\n",
       "                 13879            1384               709\n",
       "325142   8535    14049            xxxx3690           991\n",
       "325330   8544    15002            5367               569\n",
       "326050   8534    14206            xxxx1093           649\n",
       "326062   8535    14044            xxxx9573          1025\n",
       "                 14045            xxxx5576             2\n",
       "                 14046            xxxx0403          1268\n",
       "328212   8535    14981            xxxx3380           627\n",
       "329803   8535    14339            xxxx9013           771\n",
       "330698   8545    14374            1693              1252\n",
       "dtype: int64"
      ]
     },
     "execution_count": 14,
     "metadata": {},
     "output_type": "execute_result"
    }
   ],
   "source": [
    "dt1.groupby(['Lead_ID','bankid','bank_account_id','account_number']).size()"
   ]
  },
  {
   "cell_type": "markdown",
   "metadata": {},
   "source": [
    "\n",
    "\n",
    "### Exercise 2. Consider Lead ID: 318465, bank_account_id: 13419  \n",
    "#### - plot the withdrawals, deposits and end-of-day daily balance \n",
    "#### -as a daily time series; do the same for Lead ID: 316728, bank_account_id : 13232."
   ]
  },
  {
   "cell_type": "code",
   "execution_count": 17,
   "metadata": {
    "scrolled": true
   },
   "outputs": [
    {
     "name": "stdout",
     "output_type": "stream",
     "text": [
      "     Lead_ID  bankid  bank_account_id  post_date   amount    EOD_BAL\n",
      "0     318465    9262            13419 2016-04-12   607.52     607.52\n",
      "1     318465    9262            13419 2016-04-13  1713.25    2320.77\n",
      "2     318465    9262            13419 2016-04-14    97.34    2418.11\n",
      "3     318465    9262            13419 2016-04-15  1387.37    3805.48\n",
      "4     318465    9262            13419 2016-04-16   584.83    4390.31\n",
      "5     318465    9262            13419 2016-04-17    43.50    4433.81\n",
      "6     318465    9262            13419 2016-04-18   130.88    4564.69\n",
      "7     318465    9262            13419 2016-04-19   185.53    4750.22\n",
      "8     318465    9262            13419 2016-04-20  1548.91    6299.13\n",
      "9     318465    9262            13419 2016-04-21  1677.77    7976.90\n",
      "10    318465    9262            13419 2016-04-22   327.66    8304.56\n",
      "11    318465    9262            13419 2016-04-23   555.76    8860.32\n",
      "12    318465    9262            13419 2016-04-24    14.28    8874.60\n",
      "13    318465    9262            13419 2016-04-25    88.20    8962.80\n",
      "14    318465    9262            13419 2016-04-26   265.37    9228.17\n",
      "15    318465    9262            13419 2016-04-27  1772.74   11000.91\n",
      "16    318465    9262            13419 2016-04-28   237.67   11238.58\n",
      "17    318465    9262            13419 2016-04-29   147.48   11386.06\n",
      "18    318465    9262            13419 2016-04-30   346.16   11732.22\n",
      "19    318465    9262            13419 2016-05-02   163.53   11895.75\n",
      "20    318465    9262            13419 2016-05-03   278.33   12174.08\n",
      "21    318465    9262            13419 2016-05-04   487.90   12661.98\n",
      "22    318465    9262            13419 2016-05-05   140.00   12801.98\n",
      "23    318465    9262            13419 2016-05-06  2033.17   14835.15\n",
      "24    318465    9262            13419 2016-05-07   390.90   15226.05\n",
      "25    318465    9262            13419 2016-05-08    17.81   15243.86\n",
      "26    318465    9262            13419 2016-05-09   361.85   15605.71\n",
      "27    318465    9262            13419 2016-05-10   232.15   15837.86\n",
      "28    318465    9262            13419 2016-05-11  1546.83   17384.69\n",
      "29    318465    9262            13419 2016-05-12  3267.31   20652.00\n",
      "..       ...     ...              ...        ...      ...        ...\n",
      "194   318465    9262            13419 2016-11-16    87.00  192287.62\n",
      "195   318465    9262            13419 2016-11-17   675.11  192962.73\n",
      "196   318465    9262            13419 2016-11-18   457.75  193420.48\n",
      "197   318465    9262            13419 2016-11-19   157.10  193577.58\n",
      "198   318465    9262            13419 2016-11-20   109.72  193687.30\n",
      "199   318465    9262            13419 2016-11-21  1125.93  194813.23\n",
      "200   318465    9262            13419 2016-11-22   787.51  195600.74\n",
      "201   318465    9262            13419 2016-11-23  2672.70  198273.44\n",
      "202   318465    9262            13419 2016-11-24   397.28  198670.72\n",
      "203   318465    9262            13419 2016-11-25   412.97  199083.69\n",
      "204   318465    9262            13419 2016-11-26  1282.38  200366.07\n",
      "205   318465    9262            13419 2016-11-27    51.19  200417.26\n",
      "206   318465    9262            13419 2016-11-28   510.47  200927.73\n",
      "207   318465    9262            13419 2016-11-29   547.03  201474.76\n",
      "208   318465    9262            13419 2016-11-30   726.68  202201.44\n",
      "209   318465    9262            13419 2016-12-01   747.04  202948.48\n",
      "210   318465    9262            13419 2016-12-02   367.48  203315.96\n",
      "211   318465    9262            13419 2016-12-03   252.51  203568.47\n",
      "212   318465    9262            13419 2016-12-04    29.07  203597.54\n",
      "213   318465    9262            13419 2016-12-05   316.10  203913.64\n",
      "214   318465    9262            13419 2016-12-06   641.61  204555.25\n",
      "215   318465    9262            13419 2016-12-07   460.44  205015.69\n",
      "216   318465    9262            13419 2016-12-08   309.72  205325.41\n",
      "217   318465    9262            13419 2016-12-09  1929.64  207255.05\n",
      "218   318465    9262            13419 2016-12-10   538.82  207793.87\n",
      "219   318465    9262            13419 2016-12-11    42.52  207836.39\n",
      "220   318465    9262            13419 2016-12-12   215.03  208051.42\n",
      "221   318465    9262            13419 2016-12-13   662.83  208714.25\n",
      "222   318465    9262            13419 2016-12-14  1620.95  210335.20\n",
      "223   318465    9262            13419 2016-12-15  1979.39  212314.59\n",
      "\n",
      "[224 rows x 6 columns]\n"
     ]
    },
    {
     "name": "stderr",
     "output_type": "stream",
     "text": [
      "C:\\Users\\u0137159\\AppData\\Local\\Continuum\\anaconda3\\lib\\site-packages\\pandas\\core\\indexing.py:189: SettingWithCopyWarning: \n",
      "A value is trying to be set on a copy of a slice from a DataFrame\n",
      "\n",
      "See the caveats in the documentation: http://pandas.pydata.org/pandas-docs/stable/indexing.html#indexing-view-versus-copy\n",
      "  self._setitem_with_indexer(indexer, value)\n"
     ]
    }
   ],
   "source": [
    "#SELECT DESIRED ACCOUNT ID\n",
    "dt1=dt1.loc[(dt1.Lead_ID==318465) &  (dt1.bank_account_id==13419)].reset_index()\n",
    "\n",
    "#MULTIPLY THE DEBIT AMOUNTS BY -1\n",
    "dt1.loc[dt1.transaction_type=='debit','amount']=-1*dt1.amount\n",
    "\n",
    "#SORT THE DATA BY DATE AND TRANSACTION ORDER\n",
    "dt1.sort_values(['Lead_ID','bankid','bank_account_id','post_date','trans_order'], inplace=True)\n",
    "\n",
    "#SET THE OPENING BALANCE FOR EACH ACCOUNT\n",
    "dt1['amount'].iloc[0]= dt1['running_balance'].values[0]\n",
    "\n",
    "#COMPUTE EOD BALANCE\n",
    "grpby=dt1.groupby(['Lead_ID','bankid','bank_account_id','post_date'])['amount'].sum().reset_index()\n",
    "grpby['EOD_BAL']=grpby.amount.cumsum()\n",
    "print(grpby)"
   ]
  },
  {
   "cell_type": "code",
   "execution_count": 19,
   "metadata": {},
   "outputs": [
    {
     "data": {
      "text/plain": [
       "<matplotlib.axes._subplots.AxesSubplot at 0xa8864a8>"
      ]
     },
     "execution_count": 19,
     "metadata": {},
     "output_type": "execute_result"
    },
    {
     "data": {
      "image/png": "[encoded data removed]",
      "text/plain": [
       "<Figure size 432x288 with 1 Axes>"
      ]
     },
     "metadata": {},
     "output_type": "display_data"
    }
   ],
   "source": [
    "#PLOT THE EOD BALANCES\n",
    "grpby.plot(x='post_date',y='EOD_BAL',kind='bar')"
   ]
  },
  {
   "cell_type": "code",
   "execution_count": 20,
   "metadata": {},
   "outputs": [
    {
     "data": {
      "text/plain": [
       "<matplotlib.axes._subplots.AxesSubplot at 0xaba2710>"
      ]
     },
     "execution_count": 20,
     "metadata": {},
     "output_type": "execute_result"
    },
    {
     "data": {
      "image/png": "[encoded data removed]",
      "text/plain": [
       "<Figure size 432x288 with 1 Axes>"
      ]
     },
     "metadata": {},
     "output_type": "display_data"
    }
   ],
   "source": [
    "#CHECK THE DISTRIBUTION OF EOD BALANCE\n",
    "grpby.EOD_BAL.hist()"
   ]
  },
  {
   "cell_type": "code",
   "execution_count": 21,
   "metadata": {},
   "outputs": [
    {
     "data": {
      "text/plain": [
       "count       224.000000\n",
       "mean      86309.473661\n",
       "std       59286.733062\n",
       "min         607.520000\n",
       "25%       38510.722500\n",
       "50%       78649.610000\n",
       "75%      116936.897500\n",
       "max      212314.590000\n",
       "Name: EOD_BAL, dtype: float64"
      ]
     },
     "execution_count": 21,
     "metadata": {},
     "output_type": "execute_result"
    }
   ],
   "source": [
    "#DESCRIPTIVE STATS OF EOD BALANCES\n",
    "grpby.EOD_BAL.describe()"
   ]
  },
  {
   "cell_type": "code",
   "execution_count": 22,
   "metadata": {},
   "outputs": [],
   "source": [
    "#DATA FOR WITHDRAWL AND DEPOSITS/ CREDIT AND DEBIT\n",
    "#GET THE CREDIT AND DEBIT BY EOD\n",
    "crdr=dt1.groupby(['Lead_ID','bankid','bank_account_id','post_date','transaction_type'])['amount'].sum().reset_index()\n",
    "#GET THE CREDIT DEBIT AS SEPARATE COLUMNS FOR PLOTTING\n",
    "pivt=(crdr.pivot_table(index=['Lead_ID','bankid','bank_account_id','post_date']\n",
    "                      ,columns=  'transaction_type',values='amount' ).reset_index()\n",
    "      )\n",
    "pivt.fillna(value=0,inplace=True)"
   ]
  },
  {
   "cell_type": "code",
   "execution_count": 23,
   "metadata": {},
   "outputs": [
    {
     "data": {
      "text/plain": [
       "<matplotlib.axes._subplots.AxesSubplot at 0xbb0af60>"
      ]
     },
     "execution_count": 23,
     "metadata": {},
     "output_type": "execute_result"
    },
    {
     "data": {
      "image/png": "[encoded data removed]",
      "text/plain": [
       "<Figure size 432x288 with 1 Axes>"
      ]
     },
     "metadata": {},
     "output_type": "display_data"
    }
   ],
   "source": [
    "pivt.plot(x='post_date',y='credit',kind='bar')"
   ]
  },
  {
   "cell_type": "code",
   "execution_count": 24,
   "metadata": {},
   "outputs": [
    {
     "data": {
      "text/plain": [
       "<matplotlib.axes._subplots.AxesSubplot at 0xbd83f60>"
      ]
     },
     "execution_count": 24,
     "metadata": {},
     "output_type": "execute_result"
    },
    {
     "data": {
      "image/png": "[encoded data removed]",
      "text/plain": [
       "<Figure size 432x288 with 1 Axes>"
      ]
     },
     "metadata": {},
     "output_type": "display_data"
    }
   ],
   "source": [
    "pivt.plot(x='post_date',y='debit',kind='bar')"
   ]
  },
  {
   "cell_type": "markdown",
   "metadata": {},
   "source": [
    "### 3. For the merchants with the above Lead IDs, plot the withdrawals, deposits \n",
    "#### and end-of-day daily balance as a daily time series \n",
    "#### (aggregate over all their bank accounts)"
   ]
  },
  {
   "cell_type": "code",
   "execution_count": 33,
   "metadata": {},
   "outputs": [
    {
     "name": "stderr",
     "output_type": "stream",
     "text": [
      "C:\\Users\\u0137159\\AppData\\Local\\Continuum\\anaconda3\\lib\\site-packages\\pandas\\core\\indexing.py:189: SettingWithCopyWarning: \n",
      "A value is trying to be set on a copy of a slice from a DataFrame\n",
      "\n",
      "See the caveats in the documentation: http://pandas.pydata.org/pandas-docs/stable/indexing.html#indexing-view-versus-copy\n",
      "  self._setitem_with_indexer(indexer, value)\n"
     ]
    },
    {
     "name": "stdout",
     "output_type": "stream",
     "text": [
      "count     224.000000\n",
      "mean      746.001696\n",
      "std       808.487639\n",
      "min     -1316.100000\n",
      "25%       242.440000\n",
      "50%       499.220000\n",
      "75%      1250.092500\n",
      "max      3508.180000\n",
      "Name: EOD_BAL, dtype: float64\n",
      "transaction_type   Lead_ID  bankid  bank_account_id        credit  \\\n",
      "count                224.0   224.0            224.0    224.000000   \n",
      "mean              318465.0  9262.0          13419.0    479.227813   \n",
      "std                    0.0     0.0              0.0   1849.529488   \n",
      "min               318465.0  9262.0          13419.0      0.000000   \n",
      "25%               318465.0  9262.0          13419.0      0.000000   \n",
      "50%               318465.0  9262.0          13419.0     51.040000   \n",
      "75%               318465.0  9262.0          13419.0    500.000000   \n",
      "max               318465.0  9262.0          13419.0  26523.590000   \n",
      "\n",
      "transaction_type         debit  \n",
      "count               224.000000  \n",
      "mean               -470.352857  \n",
      "std                1834.700882  \n",
      "min              -26925.500000  \n",
      "25%                -427.442500  \n",
      "50%                -214.340000  \n",
      "75%                 -85.390000  \n",
      "max                   0.000000  \n",
      "count    119.000000\n",
      "mean     229.480000\n",
      "std      142.765374\n",
      "min      -31.280000\n",
      "25%      135.390000\n",
      "50%      192.420000\n",
      "75%      332.255000\n",
      "max      687.520000\n",
      "Name: EOD_BAL, dtype: float64\n",
      "transaction_type   Lead_ID  bankid  bank_account_id      credit       debit\n",
      "count                119.0   119.0            119.0  119.000000  119.000000\n",
      "mean              318465.0  9262.0          13423.0   46.642857  -45.181429\n",
      "std                    0.0     0.0              0.0  102.339056   57.496975\n",
      "min               318465.0  9262.0          13423.0    0.000000 -300.000000\n",
      "25%               318465.0  9262.0          13423.0    0.000000  -52.225000\n",
      "50%               318465.0  9262.0          13423.0    0.000000  -23.950000\n",
      "75%               318465.0  9262.0          13423.0   12.935000   -7.515000\n",
      "max               318465.0  9262.0          13423.0  467.900000    0.000000\n",
      "count      87.000000\n",
      "mean     1949.324023\n",
      "std      1323.179575\n",
      "min      -312.660000\n",
      "25%       799.545000\n",
      "50%      2001.760000\n",
      "75%      2785.460000\n",
      "max      5181.200000\n",
      "Name: EOD_BAL, dtype: float64\n",
      "transaction_type   Lead_ID  bankid  bank_account_id       credit        debit\n",
      "count                 87.0    87.0             87.0    87.000000    87.000000\n",
      "mean              318465.0  9262.0          13422.0   719.202874  -695.515172\n",
      "std                    0.0     0.0              0.0  1102.888496   909.089932\n",
      "min               318465.0  9262.0          13422.0     0.000000 -3397.750000\n",
      "25%               318465.0  9262.0          13422.0     0.000000  -994.275000\n",
      "50%               318465.0  9262.0          13422.0   155.860000  -315.530000\n",
      "75%               318465.0  9262.0          13422.0  1271.400000   -45.195000\n",
      "max               318465.0  9262.0          13422.0  5437.070000     0.000000\n",
      "count    8.200000e+01\n",
      "mean     3.398552e+02\n",
      "std      6.965663e+02\n",
      "min     -2.995000e+02\n",
      "25%     -5.684342e-13\n",
      "50%      3.971000e+01\n",
      "75%      3.285100e+02\n",
      "max      4.077300e+03\n",
      "Name: EOD_BAL, dtype: float64\n",
      "transaction_type   Lead_ID  bankid  bank_account_id       credit        debit\n",
      "count                 82.0    82.0             82.0    82.000000    82.000000\n",
      "mean              318465.0  9262.0          13425.0   659.750854  -659.750854\n",
      "std                    0.0     0.0              0.0   944.533144   972.397119\n",
      "min               318465.0  9262.0          13425.0     0.000000 -4077.970000\n",
      "25%               318465.0  9262.0          13425.0     0.000000 -1192.522500\n",
      "50%               318465.0  9262.0          13425.0    42.560000  -126.270000\n",
      "75%               318465.0  9262.0          13425.0  1359.100000   -16.597500\n",
      "max               318465.0  9262.0          13425.0  4077.970000    52.300000\n",
      "count    4.700000e+01\n",
      "mean     3.053617e+01\n",
      "std      1.037945e+02\n",
      "min     -2.661700e+02\n",
      "25%      2.842171e-14\n",
      "50%      5.780000e+00\n",
      "75%      9.885000e+01\n",
      "max      3.222600e+02\n",
      "Name: EOD_BAL, dtype: float64\n",
      "transaction_type   Lead_ID  bankid  bank_account_id       credit        debit\n",
      "count                 47.0    47.0             47.0    47.000000    47.000000\n",
      "mean              318465.0  9262.0          13424.0    85.014043   -84.971489\n",
      "std                    0.0     0.0              0.0   207.376507   199.604459\n",
      "min               318465.0  9262.0          13424.0     0.000000 -1359.100000\n",
      "25%               318465.0  9262.0          13424.0     0.000000   -91.205000\n",
      "50%               318465.0  9262.0          13424.0     0.200000   -45.000000\n",
      "75%               318465.0  9262.0          13424.0   100.000000    -4.540000\n",
      "max               318465.0  9262.0          13424.0  1359.100000     0.000000\n",
      "count     7.000000\n",
      "mean     -6.755714\n",
      "std      19.084626\n",
      "min     -45.000000\n",
      "25%     -10.000000\n",
      "50%       3.830000\n",
      "75%       4.425000\n",
      "max       5.030000\n",
      "Name: EOD_BAL, dtype: float64\n",
      "transaction_type   Lead_ID  bankid  bank_account_id     credit      debit\n",
      "count                  7.0     7.0              7.0   7.000000   7.000000\n",
      "mean              318465.0  9262.0          13420.0   7.148571  -7.148571\n",
      "std                    0.0     0.0              0.0  18.900115  10.672949\n",
      "min               318465.0  9262.0          13420.0   0.000000 -25.000000\n",
      "25%               318465.0  9262.0          13420.0   0.000000 -11.920000\n",
      "50%               318465.0  9262.0          13420.0   0.000000  -1.200000\n",
      "75%               318465.0  9262.0          13420.0   0.015000   0.000000\n",
      "max               318465.0  9262.0          13420.0  50.010000   0.000000\n",
      "count    2.000000\n",
      "mean     2.005000\n",
      "std      2.835498\n",
      "min      0.000000\n",
      "25%      1.002500\n",
      "50%      2.005000\n",
      "75%      3.007500\n",
      "max      4.010000\n",
      "Name: EOD_BAL, dtype: float64\n",
      "transaction_type   Lead_ID  bankid  bank_account_id     debit\n",
      "count                  2.0     2.0              2.0  2.000000\n",
      "mean              318465.0  9262.0          13421.0  0.000000\n",
      "std                    0.0     0.0              0.0  5.670996\n",
      "min               318465.0  9262.0          13421.0 -4.010000\n",
      "25%               318465.0  9262.0          13421.0 -2.005000\n",
      "50%               318465.0  9262.0          13421.0  0.000000\n",
      "75%               318465.0  9262.0          13421.0  2.005000\n",
      "max               318465.0  9262.0          13421.0  4.010000\n"
     ]
    },
    {
     "name": "stderr",
     "output_type": "stream",
     "text": [
      "C:\\Users\\u0137159\\AppData\\Local\\Continuum\\anaconda3\\lib\\site-packages\\pandas\\core\\frame.py:6211: FutureWarning: Sorting because non-concatenation axis is not aligned. A future version\n",
      "of pandas will change to not sort by default.\n",
      "\n",
      "To accept the future behavior, pass 'sort=False'.\n",
      "\n",
      "To retain the current behavior and silence the warning, pass 'sort=True'.\n",
      "\n",
      "  sort=sort)\n"
     ]
    }
   ],
   "source": [
    "#COMPUTE EOD BALANCE\n",
    "#MULTIPLY THE DEBIT AMOUNTS BY -1\n",
    "dt1.loc[dt1.transaction_type=='debit','amount']=-1*dt1.amount\n",
    "# SELECT THE DATA FOR LEAD ID\n",
    "dt11=dt1.loc[(dt1.Lead_ID==318465)].reset_index()\n",
    "allacct = pd.DataFrame()\n",
    "allpivt=pd.DataFrame()\n",
    "#LOOP THOURGH ALL ACCOUNT ID OF A LEAD ID\n",
    "for acct in dt11.bank_account_id.unique().tolist():\n",
    "    #SELECT DESIRED ACCOUNT ID\n",
    "    dt1=dt11.loc[(dt11.bank_account_id==acct)].reset_index()\n",
    "    \n",
    "    #SORT THE DATA BY DATE AND TRANSACTION ORDER\n",
    "    dt1.sort_values(['Lead_ID','bankid','bank_account_id','post_date','trans_order'], inplace=True)\n",
    "    \n",
    "    #SET THE OPENING BALANCE FOR EACH ACCOUNT\n",
    "    dt1['amount'].iloc[0]= dt1['running_balance'].values[0]\n",
    "    \n",
    "    #COMPUTE EOD BALANCE\n",
    "    grpby=dt1.groupby(['Lead_ID','bankid','bank_account_id','post_date'])['amount'].sum().reset_index()\n",
    "    grpby['EOD_BAL']=grpby.amount.cumsum()\n",
    "    allacct = allacct.append(grpby)\n",
    "    print(grpby.EOD_BAL.describe())\n",
    "    #GET THE CREDIT AND DEBIT BY EOD\n",
    "    crdr=dt1.groupby(['Lead_ID','bankid','bank_account_id','post_date','transaction_type'])['amount'].sum().reset_index()\n",
    "    #GET THE CREDIT DEBIT AS SEPARATE COLUMNS FOR PLOTTING\n",
    "    pivt=(crdr.pivot_table(index=['Lead_ID','bankid','bank_account_id','post_date']\n",
    "                          ,columns=  'transaction_type',values='amount' ).reset_index()\n",
    "          )\n",
    "    pivt.fillna(value=0,inplace=True)\n",
    "    allpivt=allpivt.append(pivt)\n",
    "    print(pivt.describe())\n",
    "\n",
    "#NOW CREATE EOD BALANCE AT MERCHANT LEVEL\n",
    "#COMPUTE EOD BALANCE\n",
    "mrhtEOD=allacct.groupby(['Lead_ID','post_date'])['amount'].sum().reset_index()\n",
    "mrhtEOD['EOD_BAL']=mrhtEOD.amount.cumsum()"
   ]
  },
  {
   "cell_type": "code",
   "execution_count": 34,
   "metadata": {},
   "outputs": [
    {
     "data": {
      "text/plain": [
       "<matplotlib.axes._subplots.AxesSubplot at 0xebc0710>"
      ]
     },
     "execution_count": 34,
     "metadata": {},
     "output_type": "execute_result"
    },
    {
     "data": {
      "image/png": "[encoded data removed]",
      "text/plain": [
       "<Figure size 432x288 with 1 Axes>"
      ]
     },
     "metadata": {},
     "output_type": "display_data"
    }
   ],
   "source": [
    "#PLOT THE EOD BALANCES\n",
    "mrhtEOD.plot(x='post_date',y='EOD_BAL',kind='bar')"
   ]
  },
  {
   "cell_type": "code",
   "execution_count": 36,
   "metadata": {},
   "outputs": [
    {
     "data": {
      "text/plain": [
       "<matplotlib.axes._subplots.AxesSubplot at 0xa9aaf60>"
      ]
     },
     "execution_count": 36,
     "metadata": {},
     "output_type": "execute_result"
    },
    {
     "data": {
      "image/png": "[encoded data removed]",
      "text/plain": [
       "<Figure size 432x288 with 1 Axes>"
      ]
     },
     "metadata": {},
     "output_type": "display_data"
    }
   ],
   "source": [
    "#CREDIT DEBIT AT MERCHANT LEVEL\n",
    "crdrall=allpivt.groupby(['Lead_ID','post_date'])['credit','debit'].sum().reset_index()\n",
    "crdrall.plot(x='post_date',y='credit',kind='bar')"
   ]
  },
  {
   "cell_type": "code",
   "execution_count": 37,
   "metadata": {},
   "outputs": [
    {
     "data": {
      "text/plain": [
       "<matplotlib.axes._subplots.AxesSubplot at 0xee248d0>"
      ]
     },
     "execution_count": 37,
     "metadata": {},
     "output_type": "execute_result"
    },
    {
     "data": {
      "image/png": "[encoded data removed]",
      "text/plain": [
       "<Figure size 432x288 with 1 Axes>"
      ]
     },
     "metadata": {},
     "output_type": "display_data"
    }
   ],
   "source": [
    "crdrall.plot(x='post_date',y='debit',kind='bar')"
   ]
  },
  {
   "cell_type": "markdown",
   "metadata": {},
   "source": [
    "### EXERCISE #4. The cash flow of a business has many dimensions \n",
    "#### [for example, top 5 deposits/Total deposits,  \n",
    "#### average # of days between two withdrawals, \n",
    "#### coefficient of variation of the daily balance] \n",
    "#### that are potentially relevant to a borrower’s ability to repay. \n",
    "#### Can you obtain the value of these variables for each merchant?\n",
    "#### What other cash flow variables can you hypothesize that could be relevant  for predicting merchant default?"
   ]
  },
  {
   "cell_type": "code",
   "execution_count": 41,
   "metadata": {
    "scrolled": true
   },
   "outputs": [
    {
     "name": "stdout",
     "output_type": "stream",
     "text": [
      "     index  Lead_ID  post_date     amount\n",
      "0       96   308148 2016-11-09   11580.68\n",
      "1        0   308148 2016-03-10    5000.00\n",
      "2       48   308148 2016-08-31    4994.10\n",
      "3       12   308148 2016-07-01    2600.00\n",
      "4       13   308148 2016-07-05    2547.00\n",
      "5      122   310443 2016-06-23   86579.00\n",
      "6      136   310443 2016-10-14   38708.69\n",
      "7      132   310443 2016-09-07   31356.60\n",
      "8      123   310443 2016-06-27   25022.70\n",
      "9      134   310443 2016-09-19   23000.00\n",
      "10     183   312745 2016-04-27   25975.00\n",
      "11     198   312745 2016-06-13   24038.75\n",
      "12     203   312745 2016-07-06   23800.00\n",
      "13     216   312745 2016-08-08   21298.70\n",
      "14     204   312745 2016-07-11   18060.00\n",
      "15     321   313082 2016-12-08   24252.50\n",
      "16     272   313082 2016-06-22   23998.00\n",
      "17     254   313082 2016-04-28   19583.00\n",
      "18     264   313082 2016-05-27   19567.53\n",
      "19     273   313082 2016-06-29   18471.00\n",
      "20     484   314036 2016-12-07   25404.00\n",
      "21     372   314036 2016-04-27   20900.00\n",
      "22     472   314036 2016-11-14   13305.95\n",
      "23     457   314036 2016-10-11   12985.00\n",
      "24     396   314036 2016-06-17   10039.43\n",
      "25     537   314559 2016-07-27   28860.00\n",
      "26     502   314559 2016-03-29   15600.00\n",
      "27     577   314559 2016-11-01   14677.00\n",
      "28     532   314559 2016-07-14   13198.00\n",
      "29     580   314559 2016-11-08   11690.00\n",
      "..     ...      ...        ...        ...\n",
      "75    2009   325330 2016-10-11    3200.58\n",
      "76    2088   325330 2017-02-06    2196.36\n",
      "77    1962   325330 2016-08-02    2110.63\n",
      "78    2023   325330 2016-10-31    2110.17\n",
      "79    1983   325330 2016-09-01    1706.38\n",
      "80    2221   326050 2017-02-21   26162.49\n",
      "81    2157   326050 2016-11-15    8698.85\n",
      "82    2190   326050 2017-01-04    8435.68\n",
      "83    2222   326050 2017-02-22    8345.69\n",
      "84    2199   326050 2017-01-18    7792.15\n",
      "85    2298   326062 2016-07-20   17941.23\n",
      "86    2332   326062 2016-09-07   13283.14\n",
      "87    2356   326062 2016-10-12   12145.76\n",
      "88    2415   326062 2017-01-10   12056.18\n",
      "89    2413   326062 2017-01-06   11917.45\n",
      "90    2502   328212 2016-08-15    5327.00\n",
      "91    2499   328212 2016-08-08    5026.37\n",
      "92    2601   328212 2017-03-09    5000.00\n",
      "93    2447   328212 2016-04-04    4319.00\n",
      "94    2565   328212 2017-01-05    4295.00\n",
      "95    2675   329803 2017-01-25   29250.00\n",
      "96    2674   329803 2017-01-17   25924.85\n",
      "97    2609   329803 2016-03-18   15096.31\n",
      "98    2672   329803 2017-01-06    7000.00\n",
      "99    2643   329803 2016-10-05    6267.00\n",
      "100   2712   330698 2016-04-18  214643.80\n",
      "101   2899   330698 2017-01-17  132608.05\n",
      "102   2702   330698 2016-04-04  127807.50\n",
      "103   2722   330698 2016-05-02  126744.34\n",
      "104   2882   330698 2016-12-20  121769.85\n",
      "\n",
      "[105 rows x 4 columns]\n"
     ]
    }
   ],
   "source": [
    "#TOP 5 DEPOSITS FOR EACH MERCHANT\n",
    "deposits=dt1.loc[dt1.transaction_type=='credit']\n",
    "topdep=deposits.groupby(['Lead_ID','post_date']).amount.sum().reset_index()\n",
    "topdep.sort_values(by=['Lead_ID','amount'],ascending=[True,False],inplace=True)\n",
    "Top5Dep=topdep.groupby('Lead_ID').head(5).reset_index()\n",
    "print(Top5Dep)"
   ]
  },
  {
   "cell_type": "code",
   "execution_count": 42,
   "metadata": {
    "scrolled": true
   },
   "outputs": [
    {
     "name": "stdout",
     "output_type": "stream",
     "text": [
      "    Lead_ID       amount\n",
      "0    308148     66611.03\n",
      "1    310443    325133.22\n",
      "2    312745    719437.89\n",
      "3    313082    547025.33\n",
      "4    314036    445920.11\n",
      "5    314559    527617.92\n",
      "6    316728   2463019.63\n",
      "7    318465    231848.55\n",
      "8    321146    105932.46\n",
      "9    321218   1444858.49\n",
      "10   321356   4100523.96\n",
      "11   321380   2722093.90\n",
      "12   321671    312136.74\n",
      "13   323253    976417.02\n",
      "14   325142    472617.59\n",
      "15   325330     82662.27\n",
      "16   326050    288065.74\n",
      "17   326062    841636.71\n",
      "18   328212    177402.52\n",
      "19   329803    219079.29\n",
      "20   330698  10940564.93\n"
     ]
    }
   ],
   "source": [
    "#TOTAL DEPOSIT FOR EACH MERCHANT\n",
    "TotalDep=topdep.groupby('Lead_ID').amount.sum().reset_index()\n",
    "print(TotalDep)"
   ]
  },
  {
   "cell_type": "code",
   "execution_count": 43,
   "metadata": {
    "scrolled": true
   },
   "outputs": [
    {
     "name": "stdout",
     "output_type": "stream",
     "text": [
      "    Lead_ID  Top5Deposits       amount     Ratio\n",
      "0    308148      26721.78     66611.03  0.401161\n",
      "1    310443     204666.99    325133.22  0.629487\n",
      "2    312745     113172.45    719437.89  0.157307\n",
      "3    313082     105872.03    547025.33  0.193541\n",
      "4    314036      82634.38    445920.11  0.185312\n",
      "5    314559      84025.00    527617.92  0.159253\n",
      "6    316728     581233.25   2463019.63  0.235984\n",
      "7    318465      63716.33    231848.55  0.274819\n",
      "8    321146      40354.12    105932.46  0.380942\n",
      "9    321218     734022.72   1444858.49  0.508024\n",
      "10   321356     358051.60   4100523.96  0.087318\n",
      "11   321380     224708.75   2722093.90  0.082550\n",
      "12   321671      68369.28    312136.74  0.219036\n",
      "13   323253     241087.13    976417.02  0.246910\n",
      "14   325142     290197.92    472617.59  0.614023\n",
      "15   325330      11324.12     82662.27  0.136993\n",
      "16   326050      59434.86    288065.74  0.206324\n",
      "17   326062      67343.76    841636.71  0.080015\n",
      "18   328212      23967.37    177402.52  0.135102\n",
      "19   329803      83538.16    219079.29  0.381315\n",
      "20   330698     723573.54  10940564.93  0.066137\n"
     ]
    }
   ],
   "source": [
    "#RATIO OF TOP 5 DEPOSITIS TO TOTAL DEPOSITS\n",
    "Top5Dep=Top5Dep.groupby('Lead_ID').amount.sum().reset_index()\n",
    "Top5Dep.rename(columns={'amount':'Top5Deposits'},inplace=True)\n",
    "ratioDep=pd.merge(Top5Dep,TotalDep,on='Lead_ID')\n",
    "ratioDep['Ratio']=ratioDep.Top5Deposits/ratioDep.amount\n",
    "print(ratioDep)"
   ]
  },
  {
   "cell_type": "code",
   "execution_count": 44,
   "metadata": {},
   "outputs": [
    {
     "data": {
      "text/html": [
       "<div>\n",
       "<style scoped>\n",
       "    .dataframe tbody tr th:only-of-type {\n",
       "        vertical-align: middle;\n",
       "    }\n",
       "\n",
       "    .dataframe tbody tr th {\n",
       "        vertical-align: top;\n",
       "    }\n",
       "\n",
       "    .dataframe thead th {\n",
       "        text-align: right;\n",
       "    }\n",
       "</style>\n",
       "<table border=\"1\" class=\"dataframe\">\n",
       "  <thead>\n",
       "    <tr style=\"text-align: right;\">\n",
       "      <th></th>\n",
       "      <th>Lead_ID</th>\n",
       "      <th>amount</th>\n",
       "      <th>days_elapsed</th>\n",
       "    </tr>\n",
       "  </thead>\n",
       "  <tbody>\n",
       "    <tr>\n",
       "      <th>count</th>\n",
       "      <td>2915.000000</td>\n",
       "      <td>2915.000000</td>\n",
       "      <td>2894.000000</td>\n",
       "    </tr>\n",
       "    <tr>\n",
       "      <th>mean</th>\n",
       "      <td>321453.588336</td>\n",
       "      <td>9609.127033</td>\n",
       "      <td>2.242225</td>\n",
       "    </tr>\n",
       "    <tr>\n",
       "      <th>std</th>\n",
       "      <td>5862.902611</td>\n",
       "      <td>19186.521019</td>\n",
       "      <td>3.293942</td>\n",
       "    </tr>\n",
       "    <tr>\n",
       "      <th>min</th>\n",
       "      <td>308148.000000</td>\n",
       "      <td>0.010000</td>\n",
       "      <td>1.000000</td>\n",
       "    </tr>\n",
       "    <tr>\n",
       "      <th>25%</th>\n",
       "      <td>316728.000000</td>\n",
       "      <td>500.745000</td>\n",
       "      <td>1.000000</td>\n",
       "    </tr>\n",
       "    <tr>\n",
       "      <th>50%</th>\n",
       "      <td>321380.000000</td>\n",
       "      <td>2419.290000</td>\n",
       "      <td>1.000000</td>\n",
       "    </tr>\n",
       "    <tr>\n",
       "      <th>75%</th>\n",
       "      <td>326050.000000</td>\n",
       "      <td>8473.100000</td>\n",
       "      <td>3.000000</td>\n",
       "    </tr>\n",
       "    <tr>\n",
       "      <th>max</th>\n",
       "      <td>330698.000000</td>\n",
       "      <td>428900.530000</td>\n",
       "      <td>87.000000</td>\n",
       "    </tr>\n",
       "  </tbody>\n",
       "</table>\n",
       "</div>"
      ],
      "text/plain": [
       "             Lead_ID         amount  days_elapsed\n",
       "count    2915.000000    2915.000000   2894.000000\n",
       "mean   321453.588336    9609.127033      2.242225\n",
       "std      5862.902611   19186.521019      3.293942\n",
       "min    308148.000000       0.010000      1.000000\n",
       "25%    316728.000000     500.745000      1.000000\n",
       "50%    321380.000000    2419.290000      1.000000\n",
       "75%    326050.000000    8473.100000      3.000000\n",
       "max    330698.000000  428900.530000     87.000000"
      ]
     },
     "execution_count": 44,
     "metadata": {},
     "output_type": "execute_result"
    }
   ],
   "source": [
    "# average # of days between two withdrawals, \n",
    "withdrawls=dt1.loc[dt1.transaction_type=='debit']\n",
    "withdrawls=deposits.groupby(['Lead_ID','post_date']).amount.sum().reset_index()\n",
    "withdrawls['days_elapsed']=withdrawls.sort_values(['Lead_ID','post_date']).groupby('Lead_ID').post_date.diff().dt.days\n",
    "withdrawls.describe()"
   ]
  },
  {
   "cell_type": "code",
   "execution_count": 45,
   "metadata": {
    "scrolled": true
   },
   "outputs": [
    {
     "name": "stdout",
     "output_type": "stream",
     "text": [
      "    Lead_ID  days_elapsed\n",
      "0    308148      2.405405\n",
      "1    310443     12.178571\n",
      "2    312745      3.370370\n",
      "3    313082      3.428571\n",
      "4    314036      1.968354\n",
      "5    314559      3.366337\n",
      "6    316728      1.982857\n",
      "7    318465      1.461538\n",
      "8    321146      2.974684\n",
      "9    321218      6.812500\n",
      "10   321356      1.605634\n",
      "11   321380      1.444898\n",
      "12   321671      1.879581\n",
      "13   323253      2.421875\n",
      "14   325142      3.292308\n",
      "15   325330      1.497487\n",
      "16   326050      1.796610\n",
      "17   326062      1.469767\n",
      "18   328212      2.194969\n",
      "19   329803      4.971429\n",
      "20   330698      1.451477\n"
     ]
    }
   ],
   "source": [
    "avgdays=withdrawls.groupby('Lead_ID').days_elapsed.mean().reset_index()\n",
    "print(avgdays)"
   ]
  },
  {
   "cell_type": "code",
   "execution_count": 46,
   "metadata": {},
   "outputs": [
    {
     "data": {
      "text/html": [
       "<div>\n",
       "<style scoped>\n",
       "    .dataframe tbody tr th:only-of-type {\n",
       "        vertical-align: middle;\n",
       "    }\n",
       "\n",
       "    .dataframe tbody tr th {\n",
       "        vertical-align: top;\n",
       "    }\n",
       "\n",
       "    .dataframe thead th {\n",
       "        text-align: right;\n",
       "    }\n",
       "</style>\n",
       "<table border=\"1\" class=\"dataframe\">\n",
       "  <thead>\n",
       "    <tr style=\"text-align: right;\">\n",
       "      <th></th>\n",
       "      <th>Lead_ID</th>\n",
       "      <th>EOD_BAL</th>\n",
       "    </tr>\n",
       "  </thead>\n",
       "  <tbody>\n",
       "    <tr>\n",
       "      <th>0</th>\n",
       "      <td>318465</td>\n",
       "      <td>0.760507</td>\n",
       "    </tr>\n",
       "  </tbody>\n",
       "</table>\n",
       "</div>"
      ],
      "text/plain": [
       "   Lead_ID   EOD_BAL\n",
       "0   318465  0.760507"
      ]
     },
     "execution_count": 46,
     "metadata": {},
     "output_type": "execute_result"
    }
   ],
   "source": [
    "# coefficient of variation of the daily balance\n",
    "from scipy.stats import variation \n",
    "mrhtEOD.groupby(['Lead_ID']).EOD_BAL.apply(lambda x: variation(x)).reset_index()"
   ]
  },
  {
   "cell_type": "markdown",
   "metadata": {},
   "source": [
    "### What other cash flow variables can you hypothesize that could be relevant for predicting merchant default?\n",
    "#### Number of times running balance is negative in last 12 months\n",
    "#### Number of months when the average daily withdrawl is more than average daily deposits\n",
    "#### Trends in EOD balance, is it increasing or decreasing recently\n",
    "#### Variation in amount of deposits/ withdrawls i.e., consistent transaction of average amounts or few high value transactions\n",
    "#### Source/ mode of transactions"
   ]
  },
  {
   "cell_type": "markdown",
   "metadata": {},
   "source": [
    "### Exercise 5. Develop a program by which clusters of similar transactions for a merchant can be identified from transaction descriptions and other information\n",
    "\n",
    "#### There are many ways to analyzing this problem\n",
    "##### - one way is Clustering the Description of transactions\n",
    "##### - Topic Modeling is another possibility"
   ]
  },
  {
   "cell_type": "code",
   "execution_count": 48,
   "metadata": {},
   "outputs": [
    {
     "data": {
      "text/plain": [
       "['ATM Deposit - BECU 317 NW GILMAN BLVD ISSAQUAH WAUS - Card Ending In 8648',\n",
       " 'ATM Deposit - BECU x1045 BOTHELL EVERETT HBOTHELL WAUS - Card Ending In 1107',\n",
       " 'ATM Deposit - BECU x1045 BOTHELL EVERETT HBOTHELL WAUS - Card Ending In 2706',\n",
       " 'ATM Deposit - BECU x1127 EVERGREEN WAY S EVERETT WAUS - Card Ending In 8648',\n",
       " 'ATM Deposit - BECU x6304 BOTHELL CREEK MILL CREEK WAUS - Card Ending In 7603',\n",
       " 'ATM Deposit - BECU x6310 BOTHELL EVERETT HMILL CREEK WAUS - Card Ending In 1107',\n",
       " 'ATM Deposit - BECU x6310 BOTHELL EVERETT HMILL CREEK WAUS - Card Ending In 1107',\n",
       " 'ATM Deposit - BECU x6310 BOTHELL EVERETT HMILL CREEK WAUS - Card Ending In 1107',\n",
       " 'ATM Deposit - BECU x6310 BOTHELL EVERETT HMILL CREEK WAUS - Card Ending In 1700',\n",
       " 'ATM Deposit - BECU x6310 BOTHELL EVERETT HMILL CREEK WAUS - Card Ending In 2706']"
      ]
     },
     "execution_count": 48,
     "metadata": {},
     "output_type": "execute_result"
    }
   ],
   "source": [
    "dt11=dt1.loc[(dt1.Lead_ID==318465) & (dt1.transaction_type=='credit')].reset_index()\n",
    "#GET THE TRANSACTION DESCRIPTION AS A LIST TO PROCESS\n",
    "desc_trans=dt11.description.values.tolist()\n",
    "#CHECK FEW VALUES\n",
    "desc_trans[:10]"
   ]
  },
  {
   "cell_type": "code",
   "execution_count": 49,
   "metadata": {},
   "outputs": [],
   "source": [
    "#WE WILL USE K MEANS CLUSTERING ON DESCRIPTIONS\n",
    "from sklearn.feature_extraction.text import TfidfVectorizer\n",
    "from sklearn.cluster import KMeans\n",
    "from sklearn.metrics import silhouette_score\n",
    "\n",
    "# CONVERT THE DESCRIPTION TEXT TO VECTORS\n",
    "vectorizer = TfidfVectorizer(stop_words='english')\n",
    "X = vectorizer.fit_transform(desc_trans)"
   ]
  },
  {
   "cell_type": "code",
   "execution_count": 50,
   "metadata": {},
   "outputs": [
    {
     "data": {
      "text/plain": [
       "Text(0,0.5,'SSE')"
      ]
     },
     "execution_count": 50,
     "metadata": {},
     "output_type": "execute_result"
    },
    {
     "data": {
      "image/png": "[encoded data removed]",
      "text/plain": [
       "<Figure size 432x288 with 1 Axes>"
      ]
     },
     "metadata": {},
     "output_type": "display_data"
    }
   ],
   "source": [
    "#FIND OUT OPTIMAL NUMBER OF CLUSTERS\n",
    "#METHOD 1: Elbow curve based on SSE \n",
    "sse = {}\n",
    "slh={}\n",
    "for k in range(2, 10):\n",
    "    kmeans = KMeans(n_clusters=k, max_iter=1000).fit(X)\n",
    "    sse[k] = kmeans.inertia_ \n",
    "#    this is to find silhouette score\n",
    "    label = kmeans.labels_\n",
    "    slh[k] = silhouette_score(X, label, metric='euclidean')\n",
    "#PLOT THE GRAPHS\n",
    "import matplotlib.pyplot as plt\n",
    "plt.figure()\n",
    "plt.plot(list(sse.keys()), list(sse.values()))\n",
    "plt.xlabel(\"Number of cluster\")\n",
    "plt.ylabel(\"SSE\")\n",
    "# plt.show()"
   ]
  },
  {
   "cell_type": "code",
   "execution_count": 51,
   "metadata": {},
   "outputs": [
    {
     "data": {
      "text/plain": [
       "Text(0,0.5,'Silhouette Score')"
      ]
     },
     "execution_count": 51,
     "metadata": {},
     "output_type": "execute_result"
    },
    {
     "data": {
      "image/png": "[encoded data removed]",
      "text/plain": [
       "<Figure size 432x288 with 1 Axes>"
      ]
     },
     "metadata": {},
     "output_type": "display_data"
    }
   ],
   "source": [
    "#METHOD 2: Using  silhouette score: higher the better\n",
    "plt.figure()\n",
    "plt.plot(list(slh.keys()), list(slh.values()))\n",
    "plt.xlabel(\"Number of cluster\")\n",
    "plt.ylabel(\"Silhouette Score\")\n",
    "# plt.show()"
   ]
  },
  {
   "cell_type": "code",
   "execution_count": 52,
   "metadata": {
    "scrolled": true
   },
   "outputs": [
    {
     "name": "stdout",
     "output_type": "stream",
     "text": [
      "Top terms per cluster:\n",
      "Cluster 0:\n",
      " ck\n",
      " online\n",
      " transfer\n",
      " banking\n",
      " xxxxxx1696\n",
      " deposit\n",
      " xxxxxx6643\n",
      " xxxxxx7330\n",
      " xxxxxx4335\n",
      " xxxxxx1584\n",
      "Cluster 1:\n",
      " dividend\n",
      " zz\n",
      " 69\n",
      " amp\n",
      " amazon\n",
      " alderwood\n",
      " aker\n",
      " airbnb\n",
      " ahlo\n",
      " advocare\n",
      "Cluster 2:\n",
      " mobile\n",
      " banking\n",
      " deposit\n",
      " card\n",
      " ending\n",
      " pos\n",
      " waus\n",
      " sq\n",
      " bothell\n",
      " becu\n",
      "Cluster 3:\n",
      " external\n",
      " square\n",
      " deposit\n",
      " payments\n",
      " advocare\n",
      " stripe\n",
      " transfer\n",
      " stylehaul\n",
      " zz\n",
      " edi\n"
     ]
    }
   ],
   "source": [
    "#####################################################\n",
    "#GET num_clus FROM ABOVE 2 METHODS AND FIT THE FINAL CLSUTER\n",
    "num_clus = 4\n",
    "model = KMeans(n_clusters=num_clus, init='k-means++', max_iter=100, n_init=2)\n",
    "model.fit(X)\n",
    "\n",
    "print(\"Top terms per cluster:\")\n",
    "clus_cent = model.cluster_centers_.argsort()[:, ::-1]\n",
    "terms = vectorizer.get_feature_names()\n",
    "for i in range(num_clus):\n",
    "    print(\"Cluster %d:\" % i),\n",
    "    for ind in clus_cent[i, :10]:\n",
    "        print(' %s' % terms[ind]),\n",
    "    print"
   ]
  },
  {
   "cell_type": "code",
   "execution_count": 53,
   "metadata": {},
   "outputs": [
    {
     "name": "stdout",
     "output_type": "stream",
     "text": [
      "[2]\n"
     ]
    }
   ],
   "source": [
    "# The model can be used to predict the cluster of new transaction\n",
    "Y = vectorizer.transform(['ATM Deposit - BECU 317 NW GILMAN BLVD ISSAQUAH WAUS - Card Ending In 8648'])\n",
    "prediction = model.predict(Y)\n",
    "print(prediction)"
   ]
  },
  {
   "cell_type": "markdown",
   "metadata": {},
   "source": [
    "The above transaction belongs to Cluster 2"
   ]
  },
  {
   "cell_type": "code",
   "execution_count": null,
   "metadata": {},
   "outputs": [],
   "source": []
  },
  {
   "cell_type": "code",
   "execution_count": null,
   "metadata": {},
   "outputs": [],
   "source": []
  }
 ],
 "metadata": {
  "kernelspec": {
   "display_name": "Python 3",
   "language": "python",
   "name": "python3"
  },
  "language_info": {
   "codemirror_mode": {
    "name": "ipython",
    "version": 3
   },
   "file_extension": ".py",
   "mimetype": "text/x-python",
   "name": "python",
   "nbconvert_exporter": "python",
   "pygments_lexer": "ipython3",
   "version": "3.5.5"
  }
 },
 "nbformat": 4,
 "nbformat_minor": 2
}
