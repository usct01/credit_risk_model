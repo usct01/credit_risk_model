{
 "cells": [
  {
   "cell_type": "markdown",
   "metadata": {},
   "source": [
    "# DS Case Study"
   ]
  },
  {
   "cell_type": "markdown",
   "metadata": {},
   "source": [
    "1. Data Exploration\n",
    "2. Missing Value Imputation (by Status)\n",
    "3. Distribution of Categorical and Numeric columns\n",
    "4. Trend of of Categorical and Numeric columns with Bad Rate\n",
    "5. Variable Selection approach (Information Value, RFE)\n",
    "6. Classification Model Selection (among Logistic Regression, Tree based models)\n",
    "7. Model performance on Out of Sample Test data\n"
   ]
  },
  {
   "cell_type": "markdown",
   "metadata": {},
   "source": [
    "**Observations**\n",
    "\n",
    "1. The data has 1254/4454 (28%) Bad Rate\n",
    "2. Longer Tenure Loans seems more risky and vice versa\n",
    "3. Home owner are less risky while others are very risky\n",
    "4. Users with Partime Job are very risky\n",
    "5. Risk decreases with Age and Seniority in Job\n",
    "6. Seniority has highest information value (ability to separate good vs bad)\n",
    "7. Logistic Regression and XGBoost models givi comparable perfromance\n",
    "8. Job, Home, Record are the top most influencer attributes\n"
   ]
  },
  {
   "cell_type": "markdown",
   "metadata": {},
   "source": [
    "**What else could be done to improve model**\n",
    "\n",
    "1. Flooring/ capping of numeric columns like Income, Debt etc.\n",
    "2. Using weight of evidence based approch to make numeric column monotonic may increase accuracy\n",
    "3. Hyperparameter Optimization of XGBoost model can improve performance\n",
    "4. Build a Scorecard based on Model predictions\n"
   ]
  },
  {
   "cell_type": "code",
   "execution_count": null,
   "metadata": {},
   "outputs": [],
   "source": []
  },
  {
   "cell_type": "markdown",
   "metadata": {},
   "source": [
    "### Data Exploration"
   ]
  },
  {
   "cell_type": "code",
   "execution_count": 1,
   "metadata": {
    "ExecuteTime": {
     "end_time": "2019-11-25T10:48:02.922120Z",
     "start_time": "2019-11-25T10:48:02.692214Z"
    }
   },
   "outputs": [],
   "source": [
    "# pandas library for data exploration\n",
    "import pandas as pd"
   ]
  },
  {
   "cell_type": "code",
   "execution_count": 2,
   "metadata": {
    "ExecuteTime": {
     "end_time": "2019-11-25T10:48:03.586277Z",
     "start_time": "2019-11-25T10:48:02.924170Z"
    }
   },
   "outputs": [
    {
     "data": {
      "text/html": [
       "<div>\n",
       "<style scoped>\n",
       "    .dataframe tbody tr th:only-of-type {\n",
       "        vertical-align: middle;\n",
       "    }\n",
       "\n",
       "    .dataframe tbody tr th {\n",
       "        vertical-align: top;\n",
       "    }\n",
       "\n",
       "    .dataframe thead th {\n",
       "        text-align: right;\n",
       "    }\n",
       "</style>\n",
       "<table border=\"1\" class=\"dataframe\">\n",
       "  <thead>\n",
       "    <tr style=\"text-align: right;\">\n",
       "      <th></th>\n",
       "      <th>Status</th>\n",
       "      <th>Seniority</th>\n",
       "      <th>Home</th>\n",
       "      <th>Time</th>\n",
       "      <th>Age</th>\n",
       "      <th>Marital</th>\n",
       "      <th>Records</th>\n",
       "      <th>Job</th>\n",
       "      <th>Expenses</th>\n",
       "      <th>Income</th>\n",
       "      <th>Assets</th>\n",
       "      <th>Debt</th>\n",
       "      <th>Amount</th>\n",
       "      <th>Price</th>\n",
       "    </tr>\n",
       "  </thead>\n",
       "  <tbody>\n",
       "    <tr>\n",
       "      <th>1769</th>\n",
       "      <td>1</td>\n",
       "      <td>5</td>\n",
       "      <td>5</td>\n",
       "      <td>36</td>\n",
       "      <td>50</td>\n",
       "      <td>2</td>\n",
       "      <td>1</td>\n",
       "      <td>4</td>\n",
       "      <td>90</td>\n",
       "      <td>154</td>\n",
       "      <td>0</td>\n",
       "      <td>0</td>\n",
       "      <td>1000</td>\n",
       "      <td>1279</td>\n",
       "    </tr>\n",
       "    <tr>\n",
       "      <th>2579</th>\n",
       "      <td>2</td>\n",
       "      <td>0</td>\n",
       "      <td>5</td>\n",
       "      <td>24</td>\n",
       "      <td>20</td>\n",
       "      <td>1</td>\n",
       "      <td>1</td>\n",
       "      <td>2</td>\n",
       "      <td>35</td>\n",
       "      <td>66</td>\n",
       "      <td>0</td>\n",
       "      <td>0</td>\n",
       "      <td>550</td>\n",
       "      <td>550</td>\n",
       "    </tr>\n",
       "    <tr>\n",
       "      <th>1295</th>\n",
       "      <td>1</td>\n",
       "      <td>5</td>\n",
       "      <td>1</td>\n",
       "      <td>30</td>\n",
       "      <td>58</td>\n",
       "      <td>2</td>\n",
       "      <td>1</td>\n",
       "      <td>1</td>\n",
       "      <td>80</td>\n",
       "      <td>200</td>\n",
       "      <td>15000</td>\n",
       "      <td>0</td>\n",
       "      <td>520</td>\n",
       "      <td>690</td>\n",
       "    </tr>\n",
       "    <tr>\n",
       "      <th>1094</th>\n",
       "      <td>1</td>\n",
       "      <td>2</td>\n",
       "      <td>2</td>\n",
       "      <td>24</td>\n",
       "      <td>57</td>\n",
       "      <td>2</td>\n",
       "      <td>1</td>\n",
       "      <td>4</td>\n",
       "      <td>45</td>\n",
       "      <td>25</td>\n",
       "      <td>2500</td>\n",
       "      <td>0</td>\n",
       "      <td>400</td>\n",
       "      <td>1034</td>\n",
       "    </tr>\n",
       "    <tr>\n",
       "      <th>2195</th>\n",
       "      <td>1</td>\n",
       "      <td>5</td>\n",
       "      <td>5</td>\n",
       "      <td>24</td>\n",
       "      <td>27</td>\n",
       "      <td>1</td>\n",
       "      <td>1</td>\n",
       "      <td>3</td>\n",
       "      <td>35</td>\n",
       "      <td>115</td>\n",
       "      <td>10000</td>\n",
       "      <td>0</td>\n",
       "      <td>325</td>\n",
       "      <td>425</td>\n",
       "    </tr>\n",
       "    <tr>\n",
       "      <th>3534</th>\n",
       "      <td>2</td>\n",
       "      <td>1</td>\n",
       "      <td>2</td>\n",
       "      <td>36</td>\n",
       "      <td>41</td>\n",
       "      <td>1</td>\n",
       "      <td>2</td>\n",
       "      <td>3</td>\n",
       "      <td>35</td>\n",
       "      <td>99999999</td>\n",
       "      <td>15000</td>\n",
       "      <td>0</td>\n",
       "      <td>1500</td>\n",
       "      <td>2500</td>\n",
       "    </tr>\n",
       "    <tr>\n",
       "      <th>3302</th>\n",
       "      <td>2</td>\n",
       "      <td>2</td>\n",
       "      <td>5</td>\n",
       "      <td>48</td>\n",
       "      <td>25</td>\n",
       "      <td>2</td>\n",
       "      <td>1</td>\n",
       "      <td>1</td>\n",
       "      <td>35</td>\n",
       "      <td>48</td>\n",
       "      <td>6500</td>\n",
       "      <td>0</td>\n",
       "      <td>900</td>\n",
       "      <td>912</td>\n",
       "    </tr>\n",
       "    <tr>\n",
       "      <th>115</th>\n",
       "      <td>2</td>\n",
       "      <td>2</td>\n",
       "      <td>2</td>\n",
       "      <td>36</td>\n",
       "      <td>32</td>\n",
       "      <td>2</td>\n",
       "      <td>1</td>\n",
       "      <td>1</td>\n",
       "      <td>75</td>\n",
       "      <td>101</td>\n",
       "      <td>1500</td>\n",
       "      <td>400</td>\n",
       "      <td>1200</td>\n",
       "      <td>1646</td>\n",
       "    </tr>\n",
       "    <tr>\n",
       "      <th>327</th>\n",
       "      <td>1</td>\n",
       "      <td>23</td>\n",
       "      <td>2</td>\n",
       "      <td>60</td>\n",
       "      <td>38</td>\n",
       "      <td>2</td>\n",
       "      <td>1</td>\n",
       "      <td>1</td>\n",
       "      <td>45</td>\n",
       "      <td>500</td>\n",
       "      <td>3500</td>\n",
       "      <td>0</td>\n",
       "      <td>1900</td>\n",
       "      <td>2357</td>\n",
       "    </tr>\n",
       "    <tr>\n",
       "      <th>2755</th>\n",
       "      <td>1</td>\n",
       "      <td>36</td>\n",
       "      <td>2</td>\n",
       "      <td>60</td>\n",
       "      <td>61</td>\n",
       "      <td>2</td>\n",
       "      <td>1</td>\n",
       "      <td>1</td>\n",
       "      <td>45</td>\n",
       "      <td>154</td>\n",
       "      <td>4000</td>\n",
       "      <td>0</td>\n",
       "      <td>1350</td>\n",
       "      <td>1650</td>\n",
       "    </tr>\n",
       "  </tbody>\n",
       "</table>\n",
       "</div>"
      ],
      "text/plain": [
       "      Status  Seniority  Home  Time  Age  Marital  Records  Job  Expenses  \\\n",
       "1769       1          5     5    36   50        2        1    4        90   \n",
       "2579       2          0     5    24   20        1        1    2        35   \n",
       "1295       1          5     1    30   58        2        1    1        80   \n",
       "1094       1          2     2    24   57        2        1    4        45   \n",
       "2195       1          5     5    24   27        1        1    3        35   \n",
       "3534       2          1     2    36   41        1        2    3        35   \n",
       "3302       2          2     5    48   25        2        1    1        35   \n",
       "115        2          2     2    36   32        2        1    1        75   \n",
       "327        1         23     2    60   38        2        1    1        45   \n",
       "2755       1         36     2    60   61        2        1    1        45   \n",
       "\n",
       "        Income  Assets  Debt  Amount  Price  \n",
       "1769       154       0     0    1000   1279  \n",
       "2579        66       0     0     550    550  \n",
       "1295       200   15000     0     520    690  \n",
       "1094        25    2500     0     400   1034  \n",
       "2195       115   10000     0     325    425  \n",
       "3534  99999999   15000     0    1500   2500  \n",
       "3302        48    6500     0     900    912  \n",
       "115        101    1500   400    1200   1646  \n",
       "327        500    3500     0    1900   2357  \n",
       "2755       154    4000     0    1350   1650  "
      ]
     },
     "execution_count": 2,
     "metadata": {},
     "output_type": "execute_result"
    }
   ],
   "source": [
    "# Read data from given excel file\n",
    "dt=pd.read_excel(\"Spotcap Data Science Case Study.xlsx\",sheet_name='Data')\n",
    "\n",
    "# View random sample of 10 records of data\n",
    "dt.sample(10)"
   ]
  },
  {
   "cell_type": "code",
   "execution_count": 3,
   "metadata": {
    "ExecuteTime": {
     "end_time": "2019-11-25T10:48:03.595982Z",
     "start_time": "2019-11-25T10:48:03.589001Z"
    },
    "scrolled": true
   },
   "outputs": [
    {
     "name": "stdout",
     "output_type": "stream",
     "text": [
      "<class 'pandas.core.frame.DataFrame'>\n",
      "RangeIndex: 4455 entries, 0 to 4454\n",
      "Data columns (total 14 columns):\n",
      "Status       4455 non-null int64\n",
      "Seniority    4455 non-null int64\n",
      "Home         4455 non-null int64\n",
      "Time         4455 non-null int64\n",
      "Age          4455 non-null int64\n",
      "Marital      4455 non-null int64\n",
      "Records      4455 non-null int64\n",
      "Job          4455 non-null int64\n",
      "Expenses     4455 non-null int64\n",
      "Income       4455 non-null int64\n",
      "Assets       4455 non-null int64\n",
      "Debt         4455 non-null int64\n",
      "Amount       4455 non-null int64\n",
      "Price        4455 non-null int64\n",
      "dtypes: int64(14)\n",
      "memory usage: 487.3 KB\n"
     ]
    }
   ],
   "source": [
    "# Basic Information about columns, data type and number of records\n",
    "\n",
    "dt.info()"
   ]
  },
  {
   "cell_type": "code",
   "execution_count": 4,
   "metadata": {
    "ExecuteTime": {
     "end_time": "2019-11-25T10:48:03.606963Z",
     "start_time": "2019-11-25T10:48:03.598487Z"
    }
   },
   "outputs": [],
   "source": [
    "# Convert the Categorical Columns from integer to category type\n",
    "\n",
    "categorical_cols=['Status','Home','Marital','Records','Job' ] # As per Data Dictionary\n",
    "\n",
    "dt[categorical_cols]=dt[categorical_cols].astype('category')"
   ]
  },
  {
   "cell_type": "code",
   "execution_count": 5,
   "metadata": {
    "ExecuteTime": {
     "end_time": "2019-11-25T10:48:03.639489Z",
     "start_time": "2019-11-25T10:48:03.608550Z"
    },
    "scrolled": false
   },
   "outputs": [
    {
     "name": "stdout",
     "output_type": "stream",
     "text": [
      "Distribution of  Status\n",
      "   Status    Status\n",
      "1    3200  0.718294\n",
      "2    1254  0.281481\n",
      "0       1  0.000224\n",
      "Distribution of  Home\n",
      "   Home      Home\n",
      "2  2107  0.472952\n",
      "1   973  0.218406\n",
      "5   783  0.175758\n",
      "6   319  0.071605\n",
      "3   247  0.055443\n",
      "4    20  0.004489\n",
      "0     6  0.001347\n",
      "Distribution of  Marital\n",
      "   Marital   Marital\n",
      "2     3241  0.727497\n",
      "1      978  0.219529\n",
      "4      130  0.029181\n",
      "3       67  0.015039\n",
      "5       38  0.008530\n",
      "0        1  0.000224\n",
      "Distribution of  Records\n",
      "   Records   Records\n",
      "1     3682  0.826487\n",
      "2      773  0.173513\n",
      "Distribution of  Job\n",
      "    Job       Job\n",
      "1  2806  0.629854\n",
      "3  1024  0.229854\n",
      "2   452  0.101459\n",
      "4   171  0.038384\n",
      "0     2  0.000449\n"
     ]
    }
   ],
   "source": [
    "# Check the distribution (#Records, %of Total Records) values of Categorical Columns\n",
    "\n",
    "for col in categorical_cols:\n",
    "    print(\"Distribution of \",col)\n",
    "    print(pd.concat([dt[col].value_counts(),dt[col].value_counts(normalize=True)],axis=1))"
   ]
  },
  {
   "cell_type": "code",
   "execution_count": 6,
   "metadata": {
    "ExecuteTime": {
     "end_time": "2019-11-25T10:48:03.676045Z",
     "start_time": "2019-11-25T10:48:03.641238Z"
    }
   },
   "outputs": [
    {
     "name": "stdout",
     "output_type": "stream",
     "text": [
      "['Seniority', 'Time', 'Age', 'Expenses', 'Income', 'Assets', 'Debt', 'Amount', 'Price']\n"
     ]
    },
    {
     "data": {
      "text/html": [
       "<div>\n",
       "<style scoped>\n",
       "    .dataframe tbody tr th:only-of-type {\n",
       "        vertical-align: middle;\n",
       "    }\n",
       "\n",
       "    .dataframe tbody tr th {\n",
       "        vertical-align: top;\n",
       "    }\n",
       "\n",
       "    .dataframe thead th {\n",
       "        text-align: right;\n",
       "    }\n",
       "</style>\n",
       "<table border=\"1\" class=\"dataframe\">\n",
       "  <thead>\n",
       "    <tr style=\"text-align: right;\">\n",
       "      <th></th>\n",
       "      <th>Seniority</th>\n",
       "      <th>Time</th>\n",
       "      <th>Age</th>\n",
       "      <th>Expenses</th>\n",
       "      <th>Income</th>\n",
       "      <th>Assets</th>\n",
       "      <th>Debt</th>\n",
       "      <th>Amount</th>\n",
       "      <th>Price</th>\n",
       "    </tr>\n",
       "  </thead>\n",
       "  <tbody>\n",
       "    <tr>\n",
       "      <th>count</th>\n",
       "      <td>4455.000000</td>\n",
       "      <td>4455.000000</td>\n",
       "      <td>4455.000000</td>\n",
       "      <td>4455.000000</td>\n",
       "      <td>4.455000e+03</td>\n",
       "      <td>4.455000e+03</td>\n",
       "      <td>4.455000e+03</td>\n",
       "      <td>4455.000000</td>\n",
       "      <td>4455.000000</td>\n",
       "    </tr>\n",
       "    <tr>\n",
       "      <th>mean</th>\n",
       "      <td>7.987205</td>\n",
       "      <td>46.441751</td>\n",
       "      <td>37.077666</td>\n",
       "      <td>55.568799</td>\n",
       "      <td>7.633170e+05</td>\n",
       "      <td>1.060341e+06</td>\n",
       "      <td>4.043820e+05</td>\n",
       "      <td>1039.021773</td>\n",
       "      <td>1462.875645</td>\n",
       "    </tr>\n",
       "    <tr>\n",
       "      <th>std</th>\n",
       "      <td>8.173444</td>\n",
       "      <td>14.655225</td>\n",
       "      <td>10.984856</td>\n",
       "      <td>19.515878</td>\n",
       "      <td>8.703625e+06</td>\n",
       "      <td>1.021757e+07</td>\n",
       "      <td>6.344253e+06</td>\n",
       "      <td>474.543007</td>\n",
       "      <td>628.089913</td>\n",
       "    </tr>\n",
       "    <tr>\n",
       "      <th>min</th>\n",
       "      <td>0.000000</td>\n",
       "      <td>6.000000</td>\n",
       "      <td>18.000000</td>\n",
       "      <td>35.000000</td>\n",
       "      <td>0.000000e+00</td>\n",
       "      <td>0.000000e+00</td>\n",
       "      <td>0.000000e+00</td>\n",
       "      <td>100.000000</td>\n",
       "      <td>105.000000</td>\n",
       "    </tr>\n",
       "    <tr>\n",
       "      <th>25%</th>\n",
       "      <td>2.000000</td>\n",
       "      <td>36.000000</td>\n",
       "      <td>28.000000</td>\n",
       "      <td>35.000000</td>\n",
       "      <td>8.000000e+01</td>\n",
       "      <td>0.000000e+00</td>\n",
       "      <td>0.000000e+00</td>\n",
       "      <td>700.000000</td>\n",
       "      <td>1117.500000</td>\n",
       "    </tr>\n",
       "    <tr>\n",
       "      <th>50%</th>\n",
       "      <td>5.000000</td>\n",
       "      <td>48.000000</td>\n",
       "      <td>36.000000</td>\n",
       "      <td>51.000000</td>\n",
       "      <td>1.200000e+02</td>\n",
       "      <td>3.500000e+03</td>\n",
       "      <td>0.000000e+00</td>\n",
       "      <td>1000.000000</td>\n",
       "      <td>1400.000000</td>\n",
       "    </tr>\n",
       "    <tr>\n",
       "      <th>75%</th>\n",
       "      <td>12.000000</td>\n",
       "      <td>60.000000</td>\n",
       "      <td>45.000000</td>\n",
       "      <td>72.000000</td>\n",
       "      <td>1.660000e+02</td>\n",
       "      <td>6.000000e+03</td>\n",
       "      <td>0.000000e+00</td>\n",
       "      <td>1300.000000</td>\n",
       "      <td>1692.000000</td>\n",
       "    </tr>\n",
       "    <tr>\n",
       "      <th>max</th>\n",
       "      <td>48.000000</td>\n",
       "      <td>72.000000</td>\n",
       "      <td>68.000000</td>\n",
       "      <td>180.000000</td>\n",
       "      <td>1.000000e+08</td>\n",
       "      <td>1.000000e+08</td>\n",
       "      <td>1.000000e+08</td>\n",
       "      <td>5000.000000</td>\n",
       "      <td>11140.000000</td>\n",
       "    </tr>\n",
       "  </tbody>\n",
       "</table>\n",
       "</div>"
      ],
      "text/plain": [
       "         Seniority         Time          Age     Expenses        Income  \\\n",
       "count  4455.000000  4455.000000  4455.000000  4455.000000  4.455000e+03   \n",
       "mean      7.987205    46.441751    37.077666    55.568799  7.633170e+05   \n",
       "std       8.173444    14.655225    10.984856    19.515878  8.703625e+06   \n",
       "min       0.000000     6.000000    18.000000    35.000000  0.000000e+00   \n",
       "25%       2.000000    36.000000    28.000000    35.000000  8.000000e+01   \n",
       "50%       5.000000    48.000000    36.000000    51.000000  1.200000e+02   \n",
       "75%      12.000000    60.000000    45.000000    72.000000  1.660000e+02   \n",
       "max      48.000000    72.000000    68.000000   180.000000  1.000000e+08   \n",
       "\n",
       "             Assets          Debt       Amount         Price  \n",
       "count  4.455000e+03  4.455000e+03  4455.000000   4455.000000  \n",
       "mean   1.060341e+06  4.043820e+05  1039.021773   1462.875645  \n",
       "std    1.021757e+07  6.344253e+06   474.543007    628.089913  \n",
       "min    0.000000e+00  0.000000e+00   100.000000    105.000000  \n",
       "25%    0.000000e+00  0.000000e+00   700.000000   1117.500000  \n",
       "50%    3.500000e+03  0.000000e+00  1000.000000   1400.000000  \n",
       "75%    6.000000e+03  0.000000e+00  1300.000000   1692.000000  \n",
       "max    1.000000e+08  1.000000e+08  5000.000000  11140.000000  "
      ]
     },
     "execution_count": 6,
     "metadata": {},
     "output_type": "execute_result"
    }
   ],
   "source": [
    "# Check the distribution of Numeric Columns\n",
    "numeric_cols= [col for col in dt.columns if col not in categorical_cols]\n",
    "print(numeric_cols)\n",
    "\n",
    "# Descriptive Stats\n",
    "dt.describe()"
   ]
  },
  {
   "cell_type": "code",
   "execution_count": null,
   "metadata": {
    "ExecuteTime": {
     "end_time": "2019-11-25T06:59:44.164194Z",
     "start_time": "2019-11-25T06:59:44.124096Z"
    }
   },
   "outputs": [],
   "source": []
  },
  {
   "cell_type": "code",
   "execution_count": 7,
   "metadata": {
    "ExecuteTime": {
     "end_time": "2019-11-25T10:48:03.686042Z",
     "start_time": "2019-11-25T10:48:03.677478Z"
    },
    "scrolled": true
   },
   "outputs": [
    {
     "data": {
      "text/html": [
       "<div>\n",
       "<style scoped>\n",
       "    .dataframe tbody tr th:only-of-type {\n",
       "        vertical-align: middle;\n",
       "    }\n",
       "\n",
       "    .dataframe tbody tr th {\n",
       "        vertical-align: top;\n",
       "    }\n",
       "\n",
       "    .dataframe thead th {\n",
       "        text-align: right;\n",
       "    }\n",
       "</style>\n",
       "<table border=\"1\" class=\"dataframe\">\n",
       "  <thead>\n",
       "    <tr style=\"text-align: right;\">\n",
       "      <th></th>\n",
       "      <th>Time</th>\n",
       "      <th>Time</th>\n",
       "    </tr>\n",
       "  </thead>\n",
       "  <tbody>\n",
       "    <tr>\n",
       "      <th>60</th>\n",
       "      <td>1933</td>\n",
       "      <td>0.433895</td>\n",
       "    </tr>\n",
       "    <tr>\n",
       "      <th>36</th>\n",
       "      <td>942</td>\n",
       "      <td>0.211448</td>\n",
       "    </tr>\n",
       "    <tr>\n",
       "      <th>48</th>\n",
       "      <td>860</td>\n",
       "      <td>0.193042</td>\n",
       "    </tr>\n",
       "    <tr>\n",
       "      <th>24</th>\n",
       "      <td>350</td>\n",
       "      <td>0.078563</td>\n",
       "    </tr>\n",
       "    <tr>\n",
       "      <th>12</th>\n",
       "      <td>148</td>\n",
       "      <td>0.033221</td>\n",
       "    </tr>\n",
       "    <tr>\n",
       "      <th>18</th>\n",
       "      <td>93</td>\n",
       "      <td>0.020875</td>\n",
       "    </tr>\n",
       "    <tr>\n",
       "      <th>30</th>\n",
       "      <td>49</td>\n",
       "      <td>0.010999</td>\n",
       "    </tr>\n",
       "    <tr>\n",
       "      <th>6</th>\n",
       "      <td>33</td>\n",
       "      <td>0.007407</td>\n",
       "    </tr>\n",
       "    <tr>\n",
       "      <th>42</th>\n",
       "      <td>29</td>\n",
       "      <td>0.006510</td>\n",
       "    </tr>\n",
       "    <tr>\n",
       "      <th>54</th>\n",
       "      <td>17</td>\n",
       "      <td>0.003816</td>\n",
       "    </tr>\n",
       "    <tr>\n",
       "      <th>72</th>\n",
       "      <td>1</td>\n",
       "      <td>0.000224</td>\n",
       "    </tr>\n",
       "  </tbody>\n",
       "</table>\n",
       "</div>"
      ],
      "text/plain": [
       "    Time      Time\n",
       "60  1933  0.433895\n",
       "36   942  0.211448\n",
       "48   860  0.193042\n",
       "24   350  0.078563\n",
       "12   148  0.033221\n",
       "18    93  0.020875\n",
       "30    49  0.010999\n",
       "6     33  0.007407\n",
       "42    29  0.006510\n",
       "54    17  0.003816\n",
       "72     1  0.000224"
      ]
     },
     "execution_count": 7,
     "metadata": {},
     "output_type": "execute_result"
    }
   ],
   "source": [
    "col='Time'\n",
    "pd.concat([dt[col].value_counts(),dt[col].value_counts(normalize=True)],axis=1)"
   ]
  },
  {
   "cell_type": "code",
   "execution_count": 8,
   "metadata": {
    "ExecuteTime": {
     "end_time": "2019-11-25T10:48:03.700972Z",
     "start_time": "2019-11-25T10:48:03.689584Z"
    },
    "scrolled": true
   },
   "outputs": [
    {
     "name": "stdout",
     "output_type": "stream",
     "text": [
      "Status       0\n",
      "Seniority    0\n",
      "Home         0\n",
      "Time         0\n",
      "Age          0\n",
      "Marital      0\n",
      "Records      0\n",
      "Job          0\n",
      "Expenses     0\n",
      "Income       0\n",
      "Assets       0\n",
      "Debt         0\n",
      "Amount       0\n",
      "Price        0\n",
      "dtype: int64\n",
      "Status     1\n",
      "Home       6\n",
      "Marital    1\n",
      "Records    0\n",
      "Job        2\n",
      "dtype: int64\n",
      "Seniority     0\n",
      "Time          0\n",
      "Age           0\n",
      "Expenses      0\n",
      "Income       34\n",
      "Assets       47\n",
      "Debt         18\n",
      "Amount        0\n",
      "Price         0\n",
      "dtype: int64\n"
     ]
    }
   ],
   "source": [
    "# Check Count of Missing values for each column\n",
    "print(dt.isnull().sum())\n",
    "\n",
    "print(dt[categorical_cols].isin([0]).sum())\n",
    "\n",
    "print(dt[numeric_cols].isin([99999999]).sum())"
   ]
  },
  {
   "cell_type": "code",
   "execution_count": 9,
   "metadata": {
    "ExecuteTime": {
     "end_time": "2019-11-25T10:48:04.330766Z",
     "start_time": "2019-11-25T10:48:03.704036Z"
    }
   },
   "outputs": [
    {
     "data": {
      "text/plain": [
       "0"
      ]
     },
     "execution_count": 9,
     "metadata": {},
     "output_type": "execute_result"
    }
   ],
   "source": [
    "# Check rows where all values are same\n",
    "dt.nunique(axis = 1).eq(1).sum()"
   ]
  },
  {
   "cell_type": "code",
   "execution_count": 10,
   "metadata": {
    "ExecuteTime": {
     "end_time": "2019-11-25T10:48:04.338852Z",
     "start_time": "2019-11-25T10:48:04.332900Z"
    }
   },
   "outputs": [
    {
     "data": {
      "text/plain": [
       "(4454, 14)"
      ]
     },
     "execution_count": 10,
     "metadata": {},
     "output_type": "execute_result"
    }
   ],
   "source": [
    "# Drop record where Status is missing (0)\n",
    "dt=dt[~(dt.Status==0)]\n",
    "dt.shape"
   ]
  },
  {
   "cell_type": "markdown",
   "metadata": {},
   "source": [
    "### Imputing Missing Values for Categorical and Continuous Attributes by Status"
   ]
  },
  {
   "cell_type": "code",
   "execution_count": 11,
   "metadata": {
    "ExecuteTime": {
     "end_time": "2019-11-25T10:48:04.348202Z",
     "start_time": "2019-11-25T10:48:04.340546Z"
    }
   },
   "outputs": [
    {
     "name": "stdout",
     "output_type": "stream",
     "text": [
      "(3200, 14)\n",
      "(1254, 14)\n"
     ]
    }
   ],
   "source": [
    "# Create separate data for each Status for missing value imputation\n",
    "dts1=dt[dt.Status==1]\n",
    "print(dts1.shape)\n",
    "\n",
    "dts2=dt[dt.Status==2]\n",
    "print(dts2.shape)"
   ]
  },
  {
   "cell_type": "code",
   "execution_count": 12,
   "metadata": {
    "ExecuteTime": {
     "end_time": "2019-11-25T10:48:04.654561Z",
     "start_time": "2019-11-25T10:48:04.349979Z"
    }
   },
   "outputs": [
    {
     "name": "stdout",
     "output_type": "stream",
     "text": [
      "      Seniority  Time   Age  Expenses  Income   Assets    Debt  Amount   Price\n",
      "2240        1.0  12.0  21.0      35.0     0.0      0.0     0.0   800.0  1428.0\n",
      "630         1.0  30.0  20.0      35.0    90.0      0.0     0.0   450.0   500.0\n",
      "1213       30.0  60.0  65.0      45.0   250.0  80000.0     0.0  1700.0  2290.0\n",
      "525        30.0  36.0  50.0      60.0     0.0  10000.0     0.0  1600.0  1800.0\n",
      "974         2.0  48.0  27.0      35.0   125.0      0.0     0.0   870.0  1480.0\n",
      "732         1.0  60.0  47.0      35.0    48.0   5000.0     0.0  1200.0  1445.0\n",
      "2575        2.0  36.0  37.0      60.0    83.0   3500.0     0.0   310.0  1119.0\n",
      "1153        3.0  48.0  28.0      60.0   136.0   3500.0  2500.0  1000.0  1200.0\n",
      "826        15.0  60.0  50.0      35.0    25.0  15000.0  2520.0   880.0   951.0\n",
      "243         0.0  36.0  24.0      45.0    97.0   8000.0     0.0   600.0  1542.0\n"
     ]
    }
   ],
   "source": [
    "from sklearn.impute import SimpleImputer\n",
    "\n",
    "# For Continuous columns replace missing values by Mean of the column\n",
    "imp1 = SimpleImputer(missing_values=99999999, strategy='mean')\n",
    "\n",
    "dt11=pd.DataFrame(imp1.fit_transform(dts1[numeric_cols]))\n",
    "dt11.columns=numeric_cols\n",
    "\n",
    "dt12=pd.DataFrame(imp1.fit_transform(dts2[numeric_cols]))\n",
    "dt12.columns=numeric_cols\n",
    "\n",
    "dt1=pd.concat([dt11,dt12],axis=0)\n",
    "\n",
    "print(dt1.sample(10))\n",
    "\n",
    "del [dt11,dt12]"
   ]
  },
  {
   "cell_type": "code",
   "execution_count": 13,
   "metadata": {
    "ExecuteTime": {
     "end_time": "2019-11-25T10:48:04.689216Z",
     "start_time": "2019-11-25T10:48:04.656771Z"
    }
   },
   "outputs": [
    {
     "name": "stdout",
     "output_type": "stream",
     "text": [
      "     Status Home Marital Records Job\n",
      "774       2    6       1       1   1\n",
      "1897      1    6       2       1   1\n",
      "2642      1    2       2       2   3\n",
      "2348      1    5       2       1   1\n",
      "173       1    2       1       1   1\n",
      "1300      1    2       2       1   1\n",
      "1261      1    5       2       1   3\n",
      "798       2    2       2       1   1\n",
      "1085      1    5       1       1   1\n",
      "1667      1    2       2       1   1\n"
     ]
    }
   ],
   "source": [
    "# For Categorical columns replace missing values by Mode of the column\n",
    "imp2 = SimpleImputer(missing_values=0,strategy=\"most_frequent\")\n",
    "\n",
    "dt21=pd.DataFrame(imp2.fit_transform(dts1[categorical_cols]))\n",
    "dt21.columns=categorical_cols\n",
    "\n",
    "dt22=pd.DataFrame(imp2.fit_transform(dts2[categorical_cols]))\n",
    "dt22.columns=categorical_cols\n",
    "\n",
    "dt2=pd.concat([dt21,dt22],axis=0)\n",
    "\n",
    "print(dt2.sample(10))\n",
    "\n",
    "del [dt21,dt22,dts1,dts2]"
   ]
  },
  {
   "cell_type": "code",
   "execution_count": 14,
   "metadata": {
    "ExecuteTime": {
     "end_time": "2019-11-25T10:48:04.696122Z",
     "start_time": "2019-11-25T10:48:04.691130Z"
    }
   },
   "outputs": [
    {
     "data": {
      "text/plain": [
       "(4454, 14)"
      ]
     },
     "execution_count": 14,
     "metadata": {},
     "output_type": "execute_result"
    }
   ],
   "source": [
    "# Combine data with imputed value of Categorical and Continuous columns\n",
    "dt12=pd.concat([dt1,dt2],axis=1)\n",
    "dt12.shape"
   ]
  },
  {
   "cell_type": "code",
   "execution_count": 15,
   "metadata": {
    "ExecuteTime": {
     "end_time": "2019-11-25T10:48:04.965983Z",
     "start_time": "2019-11-25T10:48:04.698000Z"
    },
    "scrolled": true
   },
   "outputs": [
    {
     "name": "stdout",
     "output_type": "stream",
     "text": [
      "    Time      GOOD       BAD\n",
      "0    6.0  0.878788  0.121212\n",
      "1   12.0  0.898649  0.101351\n",
      "2   18.0  0.827957  0.172043\n",
      "3   24.0  0.811429  0.188571\n",
      "4   30.0  0.836735  0.163265\n",
      "5   36.0  0.709130  0.290870\n",
      "6   42.0  0.793103  0.206897\n",
      "7   48.0  0.696512  0.303488\n",
      "8   54.0  0.764706  0.235294\n",
      "9   60.0  0.689959  0.310041\n",
      "10  72.0  0.000000  1.000000\n"
     ]
    },
    {
     "data": {
      "text/plain": [
       "<matplotlib.axes._subplots.AxesSubplot at 0x1a1ceaffd0>"
      ]
     },
     "execution_count": 15,
     "metadata": {},
     "output_type": "execute_result"
    }
   ],
   "source": [
    "br=pd.DataFrame(pd.crosstab(dt12.Time,dt12.Status,normalize='index')).reset_index()\n",
    "br.columns= ['Time', 'GOOD', 'BAD']\n",
    "br.columns\n",
    "print(br)\n",
    "br.plot(y='BAD',x='Time')\n",
    "br.plot.bar(y='BAD',x='Time', rot=0)"
   ]
  },
  {
   "cell_type": "markdown",
   "metadata": {
    "ExecuteTime": {
     "end_time": "2019-11-25T06:59:46.187835Z",
     "start_time": "2019-11-25T06:59:46.175454Z"
    }
   },
   "source": [
    "### Check Trend of Categorical Columns by Bad rate "
   ]
  },
  {
   "cell_type": "code",
   "execution_count": 16,
   "metadata": {
    "ExecuteTime": {
     "end_time": "2019-11-25T10:48:05.584517Z",
     "start_time": "2019-11-25T10:48:04.967617Z"
    },
    "scrolled": false
   },
   "outputs": [
    {
     "name": "stdout",
     "output_type": "stream",
     "text": [
      "['Status', 'Home', 'Marital', 'Records', 'Job']\n",
      "   Status  Good  Bad\n",
      "0       1   1.0  0.0\n",
      "1       2   0.0  1.0\n",
      "   Home      Good       Bad\n",
      "0     1  0.601233  0.398767\n",
      "1     2  0.813535  0.186465\n",
      "2     3  0.658537  0.341463\n",
      "3     4  0.550000  0.450000\n",
      "4     5  0.702427  0.297573\n",
      "5     6  0.542320  0.457680\n",
      "   Marital      Good       Bad\n",
      "0        1  0.664278  0.335722\n",
      "1        2  0.744294  0.255706\n",
      "2        3  0.716418  0.283582\n",
      "3        4  0.507692  0.492308\n",
      "4        5  0.631579  0.368421\n",
      "   Records      Good       Bad\n",
      "0        1  0.775876  0.224124\n",
      "1        2  0.445019  0.554981\n",
      "   Job      Good       Bad\n",
      "0    1  0.792661  0.207339\n",
      "1    2  0.400442  0.599558\n",
      "2    3  0.674805  0.325195\n",
      "3    4  0.602339  0.397661\n"
     ]
    },
    {
     "data": {
      "image/png": "[encoded data removed]",
      "text/plain": [
       "<Figure size 432x288 with 1 Axes>"
      ]
     },
     "metadata": {
      "needs_background": "light"
     },
     "output_type": "display_data"
    },
    {
     "data": {
      "image/png": "[encoded data removed]",
      "text/plain": [
       "<Figure size 432x288 with 1 Axes>"
      ]
     },
     "metadata": {
      "needs_background": "light"
     },
     "output_type": "display_data"
    },
    {
     "data": {
      "image/png": "[encoded data removed]",
      "text/plain": [
       "<Figure size 432x288 with 1 Axes>"
      ]
     },
     "metadata": {
      "needs_background": "light"
     },
     "output_type": "display_data"
    },
    {
     "data": {
      "image/png": "[encoded data removed]",
      "text/plain": [
       "<Figure size 432x288 with 1 Axes>"
      ]
     },
     "metadata": {
      "needs_background": "light"
     },
     "output_type": "display_data"
    },
    {
     "data": {
      "image/png": "[encoded data removed]",
      "text/plain": [
       "<Figure size 432x288 with 1 Axes>"
      ]
     },
     "metadata": {
      "needs_background": "light"
     },
     "output_type": "display_data"
    }
   ],
   "source": [
    "print(categorical_cols)\n",
    "\n",
    "for col in categorical_cols:\n",
    "    br=pd.DataFrame(pd.crosstab(dt12[col],dt12.Status,normalize='index')).reset_index()\n",
    "    br.columns=[col] +['Good','Bad']\n",
    "    print(br)\n",
    "    br.plot.bar(y='Bad',x=col, rot=0)\n",
    "    "
   ]
  },
  {
   "cell_type": "markdown",
   "metadata": {
    "ExecuteTime": {
     "end_time": "2019-11-25T06:59:46.187835Z",
     "start_time": "2019-11-25T06:59:46.175454Z"
    }
   },
   "source": [
    "### Check Trend of Numeric Columns by Bad rate "
   ]
  },
  {
   "cell_type": "code",
   "execution_count": 17,
   "metadata": {
    "ExecuteTime": {
     "end_time": "2019-11-25T10:48:07.220710Z",
     "start_time": "2019-11-25T10:48:05.586216Z"
    },
    "scrolled": false
   },
   "outputs": [
    {
     "name": "stdout",
     "output_type": "stream",
     "text": [
      "['Seniority', 'Time', 'Age', 'Expenses', 'Income', 'Assets', 'Debt', 'Amount', 'Price']\n",
      "       Seniority      Good       Bad\n",
      "0  (-0.048, 9.6]  0.643869  0.356131\n",
      "1    (9.6, 19.2]  0.838527  0.161473\n",
      "2   (19.2, 28.8]  0.895604  0.104396\n",
      "3   (28.8, 38.4]  0.892857  0.107143\n",
      "4   (38.4, 48.0]  0.916667  0.083333\n",
      "            Time      Good       Bad\n",
      "0  (5.934, 19.2]  0.872263  0.127737\n",
      "1   (19.2, 32.4]  0.814536  0.185464\n",
      "2   (32.4, 45.6]  0.711637  0.288363\n",
      "3   (45.6, 58.8]  0.697834  0.302166\n",
      "4   (58.8, 72.0]  0.689602  0.310398\n",
      "             Age      Good       Bad\n",
      "0  (17.95, 28.0]  0.671405  0.328595\n",
      "1   (28.0, 38.0]  0.705351  0.294649\n",
      "2   (38.0, 48.0]  0.728185  0.271815\n",
      "3   (48.0, 58.0]  0.788580  0.211420\n",
      "4   (58.0, 68.0]  0.833333  0.166667\n",
      "         Expenses      Good       Bad\n",
      "0  (34.855, 64.0]  0.730080  0.269920\n",
      "1    (64.0, 93.0]  0.703327  0.296673\n",
      "2   (93.0, 122.0]  0.556522  0.443478\n",
      "3  (122.0, 151.0]  0.642857  0.357143\n",
      "4  (151.0, 180.0]  0.400000  0.600000\n",
      "            Income      Good       Bad\n",
      "0  (-0.959, 191.8]  0.697518  0.302482\n",
      "1   (191.8, 383.6]  0.820475  0.179525\n",
      "2   (383.6, 575.4]  0.825397  0.174603\n",
      "3   (575.4, 767.2]  1.000000  0.000000\n",
      "4   (767.2, 959.0]  0.800000  0.200000\n",
      "                 Assets      Good       Bad\n",
      "0     (-300.0, 60000.0]  0.718128  0.281872\n",
      "1   (60000.0, 120000.0]  0.730769  0.269231\n",
      "2  (120000.0, 180000.0]  1.000000  0.000000\n",
      "3  (180000.0, 240000.0]  1.000000  0.000000\n",
      "4  (240000.0, 300000.0]  1.000000  0.000000\n",
      "                 Debt      Good       Bad\n",
      "0     (-30.0, 6000.0]  0.718962  0.281038\n",
      "1   (6000.0, 12000.0]  0.666667  0.333333\n",
      "2  (12000.0, 18000.0]  0.500000  0.500000\n",
      "3  (18000.0, 24000.0]  0.666667  0.333333\n",
      "4  (24000.0, 30000.0]  0.000000  1.000000\n",
      "             Amount      Good       Bad\n",
      "0    (95.1, 1080.0]  0.771474  0.228526\n",
      "1  (1080.0, 2060.0]  0.657174  0.342826\n",
      "2  (2060.0, 3040.0]  0.487179  0.512821\n",
      "3  (3040.0, 4020.0]  0.400000  0.600000\n",
      "4  (4020.0, 5000.0]  0.000000  1.000000\n",
      "               Price      Good       Bad\n",
      "0   (93.965, 2312.0]  0.723643  0.276357\n",
      "1   (2312.0, 4519.0]  0.645418  0.354582\n",
      "2   (4519.0, 6726.0]  0.500000  0.500000\n",
      "3   (6726.0, 8933.0]  0.666667  0.333333\n",
      "4  (8933.0, 11140.0]  1.000000  0.000000\n"
     ]
    },
    {
     "data": {
      "image/png": "[encoded data removed]",
      "text/plain": [
       "<Figure size 432x288 with 1 Axes>"
      ]
     },
     "metadata": {
      "needs_background": "light"
     },
     "output_type": "display_data"
    },
    {
     "data": {
      "image/png": "[encoded data removed]",
      "text/plain": [
       "<Figure size 432x288 with 1 Axes>"
      ]
     },
     "metadata": {
      "needs_background": "light"
     },
     "output_type": "display_data"
    },
    {
     "data": {
      "image/png": "[encoded data removed]",
      "text/plain": [
       "<Figure size 432x288 with 1 Axes>"
      ]
     },
     "metadata": {
      "needs_background": "light"
     },
     "output_type": "display_data"
    },
    {
     "data": {
      "image/png": "[encoded data removed]",
      "text/plain": [
       "<Figure size 432x288 with 1 Axes>"
      ]
     },
     "metadata": {
      "needs_background": "light"
     },
     "output_type": "display_data"
    },
    {
     "data": {
      "image/png": "[encoded data removed]",
      "text/plain": [
       "<Figure size 432x288 with 1 Axes>"
      ]
     },
     "metadata": {
      "needs_background": "light"
     },
     "output_type": "display_data"
    },
    {
     "data": {
      "image/png": "[encoded data removed]",
      "text/plain": [
       "<Figure size 432x288 with 1 Axes>"
      ]
     },
     "metadata": {
      "needs_background": "light"
     },
     "output_type": "display_data"
    },
    {
     "data": {
      "image/png": "[encoded data removed]",
      "text/plain": [
       "<Figure size 432x288 with 1 Axes>"
      ]
     },
     "metadata": {
      "needs_background": "light"
     },
     "output_type": "display_data"
    },
    {
     "data": {
      "image/png": "[encoded data removed]",
      "text/plain": [
       "<Figure size 432x288 with 1 Axes>"
      ]
     },
     "metadata": {
      "needs_background": "light"
     },
     "output_type": "display_data"
    },
    {
     "data": {
      "image/png": "[encoded data removed]",
      "text/plain": [
       "<Figure size 432x288 with 1 Axes>"
      ]
     },
     "metadata": {
      "needs_background": "light"
     },
     "output_type": "display_data"
    }
   ],
   "source": [
    "print(numeric_cols)\n",
    "for col in numeric_cols:\n",
    "    br=pd.DataFrame(pd.crosstab(pd.cut(dt12[col],5),dt12.Status,normalize='index')).reset_index()\n",
    "    br.columns=[col] +['Good','Bad']\n",
    "    print(br)\n",
    "    br.plot(y='Bad',x=col)"
   ]
  },
  {
   "cell_type": "markdown",
   "metadata": {},
   "source": [
    "### Train/ Test data preparation"
   ]
  },
  {
   "cell_type": "code",
   "execution_count": 30,
   "metadata": {
    "ExecuteTime": {
     "end_time": "2019-11-25T11:00:34.799679Z",
     "start_time": "2019-11-25T11:00:34.774080Z"
    },
    "scrolled": true
   },
   "outputs": [
    {
     "name": "stdout",
     "output_type": "stream",
     "text": [
      "(4454, 22)\n",
      "(3563, 22)\n",
      "(3563,)\n",
      "(891, 22)\n",
      "(891,)\n",
      "target.mean: 0.2815446789402784\n",
      "trainy.mean: 0.27869772663485826\n",
      "testy.mean: 0.29292929292929293\n",
      "target.count: 1254\n",
      "trainy.count: 993\n",
      "testy.count: 261\n"
     ]
    }
   ],
   "source": [
    "from sklearn.model_selection import train_test_split\n",
    "import numpy as np\n",
    "df=dt12\n",
    "df['Status']=np.where(df.Status==1,0,1)\n",
    "df.Status.value_counts()\n",
    "\n",
    "train=df.drop(columns=['Status'])\n",
    "train=pd.get_dummies(train,drop_first=True)\n",
    "colnames=train.columns\n",
    "target=df['Status']\n",
    "trainx,testx,trainy,testy=train_test_split(train,target,train_size=0.8,random_state=123)\n",
    "\n",
    "print(train.shape)\n",
    "print(trainx.shape)\n",
    "print(trainy.shape)\n",
    "print(testx.shape)\n",
    "print(testy.shape)\n",
    "\n",
    "print('target.mean:',target.mean())\n",
    "print('trainy.mean:',trainy.mean())\n",
    "print('testy.mean:',testy.mean())\n",
    "\n",
    "print('target.count:',target.sum())\n",
    "print('trainy.count:',trainy.sum())\n",
    "print('testy.count:',testy.sum())"
   ]
  },
  {
   "cell_type": "markdown",
   "metadata": {},
   "source": [
    "### Variable Selection approach"
   ]
  },
  {
   "cell_type": "markdown",
   "metadata": {},
   "source": [
    "##### Information Value based selection, IV>=0.02 is good predictor"
   ]
  },
  {
   "cell_type": "code",
   "execution_count": 25,
   "metadata": {
    "ExecuteTime": {
     "end_time": "2019-11-25T10:50:53.983133Z",
     "start_time": "2019-11-25T10:50:53.274862Z"
    }
   },
   "outputs": [
    {
     "name": "stdout",
     "output_type": "stream",
     "text": [
      "Apply function like this: final_iv, IV = data_vars(df,df.target); IV.sort_values('IV')\n"
     ]
    },
    {
     "data": {
      "text/html": [
       "<div>\n",
       "<style scoped>\n",
       "    .dataframe tbody tr th:only-of-type {\n",
       "        vertical-align: middle;\n",
       "    }\n",
       "\n",
       "    .dataframe tbody tr th {\n",
       "        vertical-align: top;\n",
       "    }\n",
       "\n",
       "    .dataframe thead th {\n",
       "        text-align: right;\n",
       "    }\n",
       "</style>\n",
       "<table border=\"1\" class=\"dataframe\">\n",
       "  <thead>\n",
       "    <tr style=\"text-align: right;\">\n",
       "      <th></th>\n",
       "      <th>VAR_NAME</th>\n",
       "      <th>IV</th>\n",
       "    </tr>\n",
       "  </thead>\n",
       "  <tbody>\n",
       "    <tr>\n",
       "      <th>11</th>\n",
       "      <td>Seniority</td>\n",
       "      <td>0.494864</td>\n",
       "    </tr>\n",
       "    <tr>\n",
       "      <th>10</th>\n",
       "      <td>Records</td>\n",
       "      <td>0.343136</td>\n",
       "    </tr>\n",
       "    <tr>\n",
       "      <th>7</th>\n",
       "      <td>Job</td>\n",
       "      <td>0.329074</td>\n",
       "    </tr>\n",
       "    <tr>\n",
       "      <th>6</th>\n",
       "      <td>Income</td>\n",
       "      <td>0.325234</td>\n",
       "    </tr>\n",
       "    <tr>\n",
       "      <th>5</th>\n",
       "      <td>Home</td>\n",
       "      <td>0.242477</td>\n",
       "    </tr>\n",
       "    <tr>\n",
       "      <th>2</th>\n",
       "      <td>Assets</td>\n",
       "      <td>0.174633</td>\n",
       "    </tr>\n",
       "    <tr>\n",
       "      <th>1</th>\n",
       "      <td>Amount</td>\n",
       "      <td>0.118291</td>\n",
       "    </tr>\n",
       "    <tr>\n",
       "      <th>8</th>\n",
       "      <td>Marital</td>\n",
       "      <td>0.056194</td>\n",
       "    </tr>\n",
       "    <tr>\n",
       "      <th>0</th>\n",
       "      <td>Age</td>\n",
       "      <td>0.033302</td>\n",
       "    </tr>\n",
       "    <tr>\n",
       "      <th>12</th>\n",
       "      <td>Time</td>\n",
       "      <td>0.028177</td>\n",
       "    </tr>\n",
       "    <tr>\n",
       "      <th>9</th>\n",
       "      <td>Price</td>\n",
       "      <td>0.003043</td>\n",
       "    </tr>\n",
       "    <tr>\n",
       "      <th>4</th>\n",
       "      <td>Expenses</td>\n",
       "      <td>0.000735</td>\n",
       "    </tr>\n",
       "    <tr>\n",
       "      <th>3</th>\n",
       "      <td>Debt</td>\n",
       "      <td>0.000356</td>\n",
       "    </tr>\n",
       "  </tbody>\n",
       "</table>\n",
       "</div>"
      ],
      "text/plain": [
       "     VAR_NAME        IV\n",
       "11  Seniority  0.494864\n",
       "10    Records  0.343136\n",
       "7         Job  0.329074\n",
       "6      Income  0.325234\n",
       "5        Home  0.242477\n",
       "2      Assets  0.174633\n",
       "1      Amount  0.118291\n",
       "8     Marital  0.056194\n",
       "0         Age  0.033302\n",
       "12       Time  0.028177\n",
       "9       Price  0.003043\n",
       "4    Expenses  0.000735\n",
       "3        Debt  0.000356"
      ]
     },
     "execution_count": 25,
     "metadata": {},
     "output_type": "execute_result"
    }
   ],
   "source": [
    "%run woeiv.py\n",
    "\n",
    "final_iv, IV = data_vars(dt12,dt12.Status)\n",
    "IV.sort_values(by='IV',ascending=False)"
   ]
  },
  {
   "cell_type": "markdown",
   "metadata": {},
   "source": [
    "##### RFE or Recursive Feature Elimination based variable selection"
   ]
  },
  {
   "cell_type": "code",
   "execution_count": 31,
   "metadata": {
    "ExecuteTime": {
     "end_time": "2019-11-25T11:00:46.591601Z",
     "start_time": "2019-11-25T11:00:46.381483Z"
    },
    "scrolled": true
   },
   "outputs": [
    {
     "name": "stderr",
     "output_type": "stream",
     "text": [
      "/Users/deepakm/anaconda3/lib/python3.6/site-packages/sklearn/linear_model/logistic.py:432: FutureWarning: Default solver will be changed to 'lbfgs' in 0.22. Specify a solver to silence this warning.\n",
      "  FutureWarning)\n",
      "/Users/deepakm/anaconda3/lib/python3.6/site-packages/sklearn/linear_model/logistic.py:432: FutureWarning: Default solver will be changed to 'lbfgs' in 0.22. Specify a solver to silence this warning.\n",
      "  FutureWarning)\n",
      "/Users/deepakm/anaconda3/lib/python3.6/site-packages/sklearn/linear_model/logistic.py:432: FutureWarning: Default solver will be changed to 'lbfgs' in 0.22. Specify a solver to silence this warning.\n",
      "  FutureWarning)\n",
      "/Users/deepakm/anaconda3/lib/python3.6/site-packages/sklearn/linear_model/logistic.py:432: FutureWarning: Default solver will be changed to 'lbfgs' in 0.22. Specify a solver to silence this warning.\n",
      "  FutureWarning)\n",
      "/Users/deepakm/anaconda3/lib/python3.6/site-packages/sklearn/linear_model/logistic.py:432: FutureWarning: Default solver will be changed to 'lbfgs' in 0.22. Specify a solver to silence this warning.\n",
      "  FutureWarning)\n",
      "/Users/deepakm/anaconda3/lib/python3.6/site-packages/sklearn/linear_model/logistic.py:432: FutureWarning: Default solver will be changed to 'lbfgs' in 0.22. Specify a solver to silence this warning.\n",
      "  FutureWarning)\n",
      "/Users/deepakm/anaconda3/lib/python3.6/site-packages/sklearn/linear_model/logistic.py:432: FutureWarning: Default solver will be changed to 'lbfgs' in 0.22. Specify a solver to silence this warning.\n",
      "  FutureWarning)\n",
      "/Users/deepakm/anaconda3/lib/python3.6/site-packages/sklearn/linear_model/logistic.py:432: FutureWarning: Default solver will be changed to 'lbfgs' in 0.22. Specify a solver to silence this warning.\n",
      "  FutureWarning)\n",
      "/Users/deepakm/anaconda3/lib/python3.6/site-packages/sklearn/linear_model/logistic.py:432: FutureWarning: Default solver will be changed to 'lbfgs' in 0.22. Specify a solver to silence this warning.\n",
      "  FutureWarning)\n",
      "/Users/deepakm/anaconda3/lib/python3.6/site-packages/sklearn/linear_model/logistic.py:432: FutureWarning: Default solver will be changed to 'lbfgs' in 0.22. Specify a solver to silence this warning.\n",
      "  FutureWarning)\n",
      "/Users/deepakm/anaconda3/lib/python3.6/site-packages/sklearn/linear_model/logistic.py:432: FutureWarning: Default solver will be changed to 'lbfgs' in 0.22. Specify a solver to silence this warning.\n",
      "  FutureWarning)\n",
      "/Users/deepakm/anaconda3/lib/python3.6/site-packages/sklearn/linear_model/logistic.py:432: FutureWarning: Default solver will be changed to 'lbfgs' in 0.22. Specify a solver to silence this warning.\n",
      "  FutureWarning)\n"
     ]
    },
    {
     "data": {
      "text/plain": [
       "[(1, 'Home_2'),\n",
       " (1, 'Home_4'),\n",
       " (1, 'Home_5'),\n",
       " (1, 'Home_6'),\n",
       " (1, 'Job_2'),\n",
       " (1, 'Job_3'),\n",
       " (1, 'Job_4'),\n",
       " (1, 'Marital_3'),\n",
       " (1, 'Marital_4'),\n",
       " (1, 'Marital_5'),\n",
       " (1, 'Records_2'),\n",
       " (2, 'Home_3'),\n",
       " (3, 'Seniority'),\n",
       " (4, 'Marital_2'),\n",
       " (5, 'Expenses'),\n",
       " (6, 'Income'),\n",
       " (7, 'Age'),\n",
       " (8, 'Amount'),\n",
       " (9, 'Price'),\n",
       " (10, 'Time'),\n",
       " (11, 'Debt'),\n",
       " (12, 'Assets')]"
      ]
     },
     "execution_count": 31,
     "metadata": {},
     "output_type": "execute_result"
    }
   ],
   "source": [
    "from sklearn import datasets\n",
    "from sklearn.feature_selection import RFE\n",
    "from sklearn.linear_model import LogisticRegression\n",
    "\n",
    "logreg = LogisticRegression()\n",
    "\n",
    "rfe = RFE(logreg)\n",
    "rfe = rfe.fit(trainx, trainy.values.ravel())\n",
    "sorted(zip(map(lambda x: round(x, 4), rfe.ranking_), trainx.columns))\n",
    "# print(rfe.support_)\n",
    "# print(rfe.ranking_) pd.concat([pd.DataFrame(train.columns[rfe.support_]),pd.DataFrame(rfe.ranking_)],axis=1)"
   ]
  },
  {
   "cell_type": "code",
   "execution_count": null,
   "metadata": {
    "ExecuteTime": {
     "end_time": "2019-11-25T07:08:30.324455Z",
     "start_time": "2019-11-25T07:08:30.317322Z"
    }
   },
   "outputs": [],
   "source": []
  },
  {
   "cell_type": "code",
   "execution_count": 20,
   "metadata": {
    "ExecuteTime": {
     "end_time": "2019-11-25T10:48:54.667930Z",
     "start_time": "2019-11-25T10:48:54.662704Z"
    }
   },
   "outputs": [
    {
     "data": {
      "text/plain": [
       "0    2570\n",
       "1     993\n",
       "Name: Status, dtype: int64"
      ]
     },
     "execution_count": 20,
     "metadata": {},
     "output_type": "execute_result"
    }
   ],
   "source": [
    "# print(trainx.head())\n",
    "# print(trainy.sample())\n",
    "trainy.value_counts()"
   ]
  },
  {
   "cell_type": "markdown",
   "metadata": {},
   "source": [
    "### Classification Model Selection (among Logistic Regression, Tree based models)"
   ]
  },
  {
   "cell_type": "code",
   "execution_count": 32,
   "metadata": {
    "ExecuteTime": {
     "end_time": "2019-11-25T11:00:49.934119Z",
     "start_time": "2019-11-25T11:00:49.930549Z"
    }
   },
   "outputs": [],
   "source": [
    "from sklearn.ensemble import ExtraTreesClassifier,RandomForestClassifier,GradientBoostingClassifier\n",
    "from sklearn.tree import DecisionTreeClassifier\n",
    "from sklearn.linear_model import LogisticRegression\n",
    "from sklearn.metrics import precision_score,recall_score,accuracy_score, roc_auc_score,precision_recall_curve,f1_score\n",
    "from sklearn.metrics import classification_report\n",
    "\n",
    "from xgboost import XGBClassifier"
   ]
  },
  {
   "cell_type": "code",
   "execution_count": 33,
   "metadata": {
    "ExecuteTime": {
     "end_time": "2019-11-25T11:00:57.021859Z",
     "start_time": "2019-11-25T11:00:51.095032Z"
    },
    "scrolled": false
   },
   "outputs": [
    {
     "name": "stderr",
     "output_type": "stream",
     "text": [
      "/Users/deepakm/anaconda3/lib/python3.6/site-packages/sklearn/linear_model/logistic.py:432: FutureWarning: Default solver will be changed to 'lbfgs' in 0.22. Specify a solver to silence this warning.\n",
      "  FutureWarning)\n"
     ]
    },
    {
     "name": "stdout",
     "output_type": "stream",
     "text": [
      "LR\n",
      "precision_score: 0.6994818652849741\n",
      "recall_score: 0.5172413793103449\n",
      "accuracy_score: 0.7934904601571269\n",
      "roc_auc_score: 0.7125889436234264\n",
      "-----------------------------------\n",
      "DT\n",
      "precision_score: 0.5301204819277109\n",
      "recall_score: 0.5057471264367817\n",
      "accuracy_score: 0.7239057239057239\n",
      "roc_auc_score: 0.660016420361248\n",
      "-----------------------------------\n",
      "Extra_Trees\n",
      "precision_score: 0.6505376344086021\n",
      "recall_score: 0.46360153256704983\n",
      "accuracy_score: 0.7699214365881033\n",
      "roc_auc_score: 0.6802134646962232\n",
      "-----------------------------------\n",
      "Random_Forest\n",
      "precision_score: 0.6724137931034483\n",
      "recall_score: 0.4482758620689655\n",
      "accuracy_score: 0.7744107744107744\n",
      "roc_auc_score: 0.6788998357963875\n",
      "-----------------------------------\n",
      "GBM\n",
      "precision_score: 0.6619047619047619\n",
      "recall_score: 0.5325670498084292\n",
      "accuracy_score: 0.7833894500561167\n",
      "roc_auc_score: 0.7099343185550082\n",
      "-----------------------------------\n",
      "XGB\n",
      "precision_score: 0.6778846153846154\n",
      "recall_score: 0.5402298850574713\n",
      "accuracy_score: 0.7901234567901234\n",
      "roc_auc_score: 0.7169403393541326\n",
      "-----------------------------------\n"
     ]
    }
   ],
   "source": [
    "# Fit estimators\n",
    "ESTIMATORS = {\"LR\": LogisticRegression(),\n",
    "              \"DT\" : DecisionTreeClassifier(),\n",
    "              \"Extra_Trees\": ExtraTreesClassifier(n_estimators=500,random_state=123),\n",
    "              \"Random_Forest\": RandomForestClassifier(n_estimators=500,random_state=123),\n",
    "              \"GBM\": GradientBoostingClassifier(n_estimators=500,random_state=123),\n",
    "              \"XGB\": XGBClassifier(n_estimators=500,random_state=123)\n",
    "}\n",
    "y_test_proba = dict()\n",
    "y_test_predict = dict()\n",
    "for name, estimator in ESTIMATORS.items():\n",
    "    estimator.fit(trainx, trainy)\n",
    "    y_test_predict[name] = estimator.predict(testx)\n",
    "    y_test_proba[name] = estimator.predict_proba(testx)\n",
    "\n",
    "# Compare Model Metrics\n",
    "# Model performance\n",
    "for k,v in y_test_predict.items():\n",
    "    print(k)\n",
    "#     print(classification_report(testy, y_test_predict[k]))\n",
    "    print(\"precision_score:\", precision_score(testy, y_test_predict[k]))\n",
    "    print(\"recall_score:\", recall_score(testy, y_test_predict[k]))\n",
    "    print(\"accuracy_score:\", accuracy_score(testy, y_test_predict[k]))\n",
    "    print(\"roc_auc_score:\", roc_auc_score(testy, y_test_predict[k]))\n",
    "    print(\"-----------------------------------\")"
   ]
  },
  {
   "cell_type": "code",
   "execution_count": 34,
   "metadata": {
    "ExecuteTime": {
     "end_time": "2019-11-25T11:01:16.795830Z",
     "start_time": "2019-11-25T11:01:16.745366Z"
    },
    "scrolled": true
   },
   "outputs": [
    {
     "data": {
      "text/html": [
       "<div>\n",
       "<style scoped>\n",
       "    .dataframe tbody tr th:only-of-type {\n",
       "        vertical-align: middle;\n",
       "    }\n",
       "\n",
       "    .dataframe tbody tr th {\n",
       "        vertical-align: top;\n",
       "    }\n",
       "\n",
       "    .dataframe thead th {\n",
       "        text-align: right;\n",
       "    }\n",
       "</style>\n",
       "<table border=\"1\" class=\"dataframe\">\n",
       "  <thead>\n",
       "    <tr style=\"text-align: right;\">\n",
       "      <th></th>\n",
       "      <th>thresh</th>\n",
       "      <th>precision</th>\n",
       "      <th>recall</th>\n",
       "    </tr>\n",
       "  </thead>\n",
       "  <tbody>\n",
       "    <tr>\n",
       "      <th>0</th>\n",
       "      <td>(0.0257, 0.123]</td>\n",
       "      <td>0.368864</td>\n",
       "      <td>0.987997</td>\n",
       "    </tr>\n",
       "    <tr>\n",
       "      <th>1</th>\n",
       "      <td>(0.123, 0.219]</td>\n",
       "      <td>0.462541</td>\n",
       "      <td>0.908622</td>\n",
       "    </tr>\n",
       "    <tr>\n",
       "      <th>2</th>\n",
       "      <td>(0.219, 0.316]</td>\n",
       "      <td>0.541575</td>\n",
       "      <td>0.799219</td>\n",
       "    </tr>\n",
       "    <tr>\n",
       "      <th>3</th>\n",
       "      <td>(0.316, 0.412]</td>\n",
       "      <td>0.605116</td>\n",
       "      <td>0.681322</td>\n",
       "    </tr>\n",
       "    <tr>\n",
       "      <th>4</th>\n",
       "      <td>(0.412, 0.508]</td>\n",
       "      <td>0.668147</td>\n",
       "      <td>0.568247</td>\n",
       "    </tr>\n",
       "    <tr>\n",
       "      <th>5</th>\n",
       "      <td>(0.508, 0.604]</td>\n",
       "      <td>0.734013</td>\n",
       "      <td>0.448967</td>\n",
       "    </tr>\n",
       "    <tr>\n",
       "      <th>6</th>\n",
       "      <td>(0.604, 0.701]</td>\n",
       "      <td>0.767171</td>\n",
       "      <td>0.317562</td>\n",
       "    </tr>\n",
       "    <tr>\n",
       "      <th>7</th>\n",
       "      <td>(0.701, 0.797]</td>\n",
       "      <td>0.747965</td>\n",
       "      <td>0.184605</td>\n",
       "    </tr>\n",
       "    <tr>\n",
       "      <th>8</th>\n",
       "      <td>(0.797, 0.893]</td>\n",
       "      <td>0.795036</td>\n",
       "      <td>0.100423</td>\n",
       "    </tr>\n",
       "    <tr>\n",
       "      <th>9</th>\n",
       "      <td>(0.893, 0.99]</td>\n",
       "      <td>0.911891</td>\n",
       "      <td>0.040147</td>\n",
       "    </tr>\n",
       "  </tbody>\n",
       "</table>\n",
       "</div>"
      ],
      "text/plain": [
       "            thresh  precision    recall\n",
       "0  (0.0257, 0.123]   0.368864  0.987997\n",
       "1   (0.123, 0.219]   0.462541  0.908622\n",
       "2   (0.219, 0.316]   0.541575  0.799219\n",
       "3   (0.316, 0.412]   0.605116  0.681322\n",
       "4   (0.412, 0.508]   0.668147  0.568247\n",
       "5   (0.508, 0.604]   0.734013  0.448967\n",
       "6   (0.604, 0.701]   0.767171  0.317562\n",
       "7   (0.701, 0.797]   0.747965  0.184605\n",
       "8   (0.797, 0.893]   0.795036  0.100423\n",
       "9    (0.893, 0.99]   0.911891  0.040147"
      ]
     },
     "execution_count": 34,
     "metadata": {},
     "output_type": "execute_result"
    }
   ],
   "source": [
    "# calculate precision-recall curve\n",
    "precision, recall, thresholds = precision_recall_curve(testy, ESTIMATORS['LR'].predict_proba(testx)[:, 1])\n",
    "prdt=pd.DataFrame([precision[:-1],recall[:-1],thresholds]).T\n",
    "prdt.columns=['precision','recall','thresholds']\n",
    "prdt['thresh']=pd.cut(prdt.thresholds, 10)\n",
    "# prdt.groupby('thresh').agg({'precision':'max','recall':'max'}).reset_index()\n",
    "prdt.groupby('thresh').agg({'precision':'mean','recall':'mean'}).reset_index()"
   ]
  },
  {
   "cell_type": "code",
   "execution_count": null,
   "metadata": {
    "ExecuteTime": {
     "end_time": "2019-11-25T07:50:07.675347Z",
     "start_time": "2019-11-25T07:50:07.673270Z"
    }
   },
   "outputs": [],
   "source": []
  },
  {
   "cell_type": "code",
   "execution_count": 35,
   "metadata": {
    "ExecuteTime": {
     "end_time": "2019-11-25T11:01:29.228295Z",
     "start_time": "2019-11-25T11:01:29.202979Z"
    },
    "scrolled": false
   },
   "outputs": [
    {
     "name": "stdout",
     "output_type": "stream",
     "text": [
      "Records_2    0.201386\n",
      "Job_2        0.143415\n",
      "Seniority    0.077799\n",
      "Home_2       0.052289\n",
      "Income       0.052221\n",
      "Assets       0.048939\n",
      "Home_5       0.043196\n",
      "Time         0.038580\n",
      "Amount       0.038340\n",
      "Marital_4    0.034383\n",
      "Expenses     0.032809\n",
      "Home_6       0.031600\n",
      "Job_3        0.028536\n",
      "Price        0.028431\n",
      "Job_4        0.026970\n",
      "Debt         0.024687\n",
      "Age          0.023010\n",
      "Marital_2    0.017166\n",
      "Marital_5    0.016887\n",
      "Marital_3    0.014582\n",
      "Home_3       0.014248\n",
      "Home_4       0.010527\n",
      "dtype: float32\n"
     ]
    }
   ],
   "source": [
    "important_features = pd.Series(data=ESTIMATORS['XGB'].feature_importances_,index=colnames)\n",
    "important_features.sort_values(ascending=False,inplace=True)\n",
    "print(important_features)"
   ]
  },
  {
   "cell_type": "code",
   "execution_count": 36,
   "metadata": {
    "ExecuteTime": {
     "end_time": "2019-11-25T11:01:34.588680Z",
     "start_time": "2019-11-25T11:01:34.581174Z"
    }
   },
   "outputs": [
    {
     "name": "stdout",
     "output_type": "stream",
     "text": [
      "0.8066236317709795\n",
      "0.7934904601571269\n"
     ]
    }
   ],
   "source": [
    "# ESTIMATORS['LR'].coef_\n",
    "print(ESTIMATORS['LR'].score(trainx,trainy))\n",
    "print(ESTIMATORS['LR'].score(testx,testy))"
   ]
  },
  {
   "cell_type": "code",
   "execution_count": 40,
   "metadata": {
    "ExecuteTime": {
     "end_time": "2019-11-25T11:15:54.048954Z",
     "start_time": "2019-11-25T11:15:54.039128Z"
    },
    "scrolled": true
   },
   "outputs": [
    {
     "name": "stdout",
     "output_type": "stream",
     "text": [
      "      Seniority  Time   Age  Expenses  Income  Assets  Debt  Amount   Price  \\\n",
      "734         2.0  36.0  20.0      35.0   110.0     0.0   0.0   500.0  1314.0   \n",
      "981         1.0  48.0  39.0      86.0   105.0     0.0   0.0  1300.0  1600.0   \n",
      "452        10.0  60.0  33.0      56.0   107.0     0.0   0.0   600.0  1250.0   \n",
      "919         2.0  48.0  25.0      35.0    48.0  6500.0   0.0   900.0   912.0   \n",
      "1017        0.0  60.0  33.0      54.0    85.0     0.0   0.0  1300.0  1797.0   \n",
      "\n",
      "      Home_2  ...    Home_5  Home_6  Marital_2  Marital_3  Marital_4  \\\n",
      "734        0  ...         1       0          0          0          0   \n",
      "981        0  ...         0       0          1          0          0   \n",
      "452        0  ...         0       0          1          0          0   \n",
      "919        0  ...         1       0          1          0          0   \n",
      "1017       0  ...         0       0          1          0          0   \n",
      "\n",
      "      Marital_5  Records_2  Job_2  Job_3  Job_4  \n",
      "734           0          0      0      0      0  \n",
      "981           0          0      0      0      0  \n",
      "452           0          0      0      0      0  \n",
      "919           0          0      0      0      0  \n",
      "1017          0          0      1      0      0  \n",
      "\n",
      "[5 rows x 22 columns]\n"
     ]
    }
   ],
   "source": [
    "print(trainx.head())"
   ]
  },
  {
   "cell_type": "code",
   "execution_count": 41,
   "metadata": {
    "ExecuteTime": {
     "end_time": "2019-11-25T11:15:55.356180Z",
     "start_time": "2019-11-25T11:15:55.352333Z"
    }
   },
   "outputs": [
    {
     "name": "stdout",
     "output_type": "stream",
     "text": [
      "XGBClassifier(base_score=0.5, booster='gbtree', colsample_bylevel=1,\n",
      "              colsample_bynode=1, colsample_bytree=1, gamma=0,\n",
      "              learning_rate=0.1, max_delta_step=0, max_depth=3,\n",
      "              min_child_weight=1, missing=None, n_estimators=500, n_jobs=1,\n",
      "              nthread=None, objective='binary:logistic', random_state=123,\n",
      "              reg_alpha=0, reg_lambda=1, scale_pos_weight=1, seed=None,\n",
      "              silent=None, subsample=1, verbosity=1)\n"
     ]
    }
   ],
   "source": [
    "print(ESTIMATORS['XGB'])"
   ]
  },
  {
   "cell_type": "markdown",
   "metadata": {},
   "source": [
    "##### Deatiled output of Logistic Regression "
   ]
  },
  {
   "cell_type": "code",
   "execution_count": 42,
   "metadata": {
    "ExecuteTime": {
     "end_time": "2019-11-25T11:15:59.458565Z",
     "start_time": "2019-11-25T11:15:59.365055Z"
    },
    "scrolled": false
   },
   "outputs": [
    {
     "name": "stdout",
     "output_type": "stream",
     "text": [
      "Optimization terminated successfully.    (Exit mode 0)\n",
      "            Current function value: 0.43145365979252\n",
      "            Iterations: 113\n",
      "            Function evaluations: 148\n",
      "            Gradient evaluations: 113\n",
      "                          Results: Logit\n",
      "==================================================================\n",
      "Model:              Logit            Pseudo R-squared: 0.271      \n",
      "Dependent Variable: Status           AIC:              3118.5388  \n",
      "Date:               2019-11-25 16:45 BIC:              3254.4627  \n",
      "No. Observations:   3563             Log-Likelihood:   -1537.3    \n",
      "Df Model:           21               LL-Null:          -2108.3    \n",
      "Df Residuals:       3541             LLR p-value:      1.4052e-228\n",
      "Converged:          1.0000           Scale:            1.0000     \n",
      "No. Iterations:     113.0000                                      \n",
      "-------------------------------------------------------------------\n",
      "               Coef.   Std.Err.     z      P>|z|    [0.025   0.975]\n",
      "-------------------------------------------------------------------\n",
      "Seniority     -0.0755    0.0085   -8.9300  0.0000  -0.0920  -0.0589\n",
      "Time          -0.0109    0.0034   -3.2154  0.0013  -0.0175  -0.0042\n",
      "Age           -0.0062    0.0050   -1.2417  0.2144  -0.0161   0.0036\n",
      "Expenses       0.0100    0.0028    3.6312  0.0003   0.0046   0.0154\n",
      "Income        -0.0079    0.0007  -10.9843  0.0000  -0.0093  -0.0065\n",
      "Assets        -0.0000    0.0000   -3.7176  0.0002  -0.0000  -0.0000\n",
      "Debt           0.0001    0.0000    3.4688  0.0005   0.0001   0.0002\n",
      "Amount         0.0022    0.0002   11.3040  0.0000   0.0018   0.0025\n",
      "Price         -0.0011    0.0001   -7.7168  0.0000  -0.0013  -0.0008\n",
      "Home_2        -0.7472    0.1254   -5.9566  0.0000  -0.9931  -0.5014\n",
      "Home_3        -0.1033    0.1991   -0.5187  0.6040  -0.4935   0.2870\n",
      "Home_4         0.5570    0.6222    0.8951  0.3707  -0.6625   1.7765\n",
      "Home_5        -0.7929    0.1374   -5.7716  0.0000  -1.0621  -0.5236\n",
      "Home_6         0.0709    0.1808    0.3922  0.6949  -0.2835   0.4253\n",
      "Marital_2     -0.3514    0.1414   -2.4844  0.0130  -0.6286  -0.0742\n",
      "Marital_3      0.4316    0.3795    1.1373  0.2554  -0.3122   1.1753\n",
      "Marital_4      0.8451    0.2566    3.2940  0.0010   0.3422   1.3480\n",
      "Marital_5      0.2507    0.4502    0.5569  0.5776  -0.6317   1.1331\n",
      "Records_2      1.8433    0.1165   15.8256  0.0000   1.6150   2.0715\n",
      "Job_2          1.3480    0.1374    9.8090  0.0000   1.0787   1.6174\n",
      "Job_3          0.5138    0.1178    4.3598  0.0000   0.2828   0.7447\n",
      "Job_4          0.6649    0.2268    2.9321  0.0034   0.2205   1.1094\n",
      "==================================================================\n",
      "\n"
     ]
    },
    {
     "name": "stderr",
     "output_type": "stream",
     "text": [
      "/Users/deepakm/anaconda3/lib/python3.6/site-packages/statsmodels/discrete/discrete_model.py:1736: RuntimeWarning: overflow encountered in exp\n",
      "  return 1/(1+np.exp(-X))\n",
      "/Users/deepakm/anaconda3/lib/python3.6/site-packages/statsmodels/discrete/discrete_model.py:1789: RuntimeWarning: divide by zero encountered in log\n",
      "  return np.sum(np.log(self.cdf(q*np.dot(X,params))))\n"
     ]
    }
   ],
   "source": [
    "import statsmodels.api as sm\n",
    "logit_model=sm.Logit(trainy,trainx)\n",
    "result=logit_model.fit_regularized()\n",
    "print(result.summary2())"
   ]
  },
  {
   "cell_type": "markdown",
   "metadata": {},
   "source": [
    "Drop the variables with high p value and repeat the process unless all variables have low p value"
   ]
  },
  {
   "cell_type": "code",
   "execution_count": null,
   "metadata": {},
   "outputs": [],
   "source": []
  },
  {
   "cell_type": "code",
   "execution_count": null,
   "metadata": {},
   "outputs": [],
   "source": []
  },
  {
   "cell_type": "code",
   "execution_count": null,
   "metadata": {},
   "outputs": [],
   "source": []
  }
 ],
 "metadata": {
  "kernelspec": {
   "display_name": "Python 3",
   "language": "python",
   "name": "python3"
  },
  "language_info": {
   "codemirror_mode": {
    "name": "ipython",
    "version": 3
   },
   "file_extension": ".py",
   "mimetype": "text/x-python",
   "name": "python",
   "nbconvert_exporter": "python",
   "pygments_lexer": "ipython3",
   "version": "3.6.9"
  },
  "varInspector": {
   "cols": {
    "lenName": 16,
    "lenType": 16,
    "lenVar": 40
   },
   "kernels_config": {
    "python": {
     "delete_cmd_postfix": "",
     "delete_cmd_prefix": "del ",
     "library": "var_list.py",
     "varRefreshCmd": "print(var_dic_list())"
    },
    "r": {
     "delete_cmd_postfix": ") ",
     "delete_cmd_prefix": "rm(",
     "library": "var_list.r",
     "varRefreshCmd": "cat(var_dic_list()) "
    }
   },
   "position": {
    "height": "360px",
    "left": "588px",
    "right": "20px",
    "top": "83px",
    "width": "475px"
   },
   "types_to_exclude": [
    "module",
    "function",
    "builtin_function_or_method",
    "instance",
    "_Feature"
   ],
   "window_display": false
  }
 },
 "nbformat": 4,
 "nbformat_minor": 2
}
